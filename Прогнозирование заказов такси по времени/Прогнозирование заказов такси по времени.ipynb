{
 "cells": [
  {
   "cell_type": "markdown",
   "metadata": {},
   "source": [
    "#  Прогнозирование заказов такси"
   ]
  },
  {
   "cell_type": "markdown",
   "metadata": {},
   "source": [
    "Компания «Чётенькое такси» собрала исторические данные о заказах такси в аэропортах. Чтобы привлекать больше водителей в период пиковой нагрузки, нужно спрогнозировать количество заказов такси на следующий час. Постройте модель для такого предсказания.\n",
    "\n",
    "Значение метрики *RMSE* на тестовой выборке должно быть не больше 48.\n",
    "\n",
    "Вам нужно:\n",
    "\n",
    "1. Загрузить данные и выполнить их ресемплирование по одному часу.\n",
    "2. Проанализировать данные.\n",
    "3. Обучить разные модели с различными гиперпараметрами. Сделать тестовую выборку размером 10% от исходных данных.\n",
    "4. Проверить данные на тестовой выборке и сделать выводы.\n",
    "\n",
    "\n",
    "Данные лежат в файле `taxi.csv`. Количество заказов находится в столбце `num_orders` (от англ. *number of orders*, «число заказов»)."
   ]
  },
  {
   "cell_type": "markdown",
   "metadata": {},
   "source": [
    "## Подготовка"
   ]
  },
  {
   "cell_type": "code",
   "execution_count": 1,
   "metadata": {},
   "outputs": [],
   "source": [
    "import pandas as pd \n",
    "import numpy as np \n",
    "import seaborn as sn \n",
    "import matplotlib.pyplot as plt \n",
    "\n",
    "\n",
    "from statsmodels.tsa.seasonal import seasonal_decompose\n",
    "\n",
    "from sklearn.metrics import mean_squared_error\n",
    "from sklearn.model_selection import train_test_split, GridSearchCV, TimeSeriesSplit\n",
    "\n",
    "from sklearn.linear_model import LinearRegression\n",
    "from sklearn.tree import DecisionTreeRegressor\n",
    "from sklearn.ensemble import RandomForestRegressor\n",
    "from catboost import CatBoostRegressor\n",
    "from lightgbm import LGBMRegressor\n",
    "\n",
    "import time\n",
    "import warnings\n",
    "warnings.filterwarnings(\"ignore\")"
   ]
  },
  {
   "cell_type": "code",
   "execution_count": 2,
   "metadata": {},
   "outputs": [],
   "source": [
    "df = pd.read_csv('/datasets/taxi.csv',index_col=[0], parse_dates=[0])"
   ]
  },
  {
   "cell_type": "code",
   "execution_count": 3,
   "metadata": {},
   "outputs": [
    {
     "name": "stdout",
     "output_type": "stream",
     "text": [
      "<class 'pandas.core.frame.DataFrame'>\n",
      "DatetimeIndex: 26496 entries, 2018-03-01 00:00:00 to 2018-08-31 23:50:00\n",
      "Data columns (total 1 columns):\n",
      " #   Column      Non-Null Count  Dtype\n",
      "---  ------      --------------  -----\n",
      " 0   num_orders  26496 non-null  int64\n",
      "dtypes: int64(1)\n",
      "memory usage: 414.0 KB\n"
     ]
    }
   ],
   "source": [
    "df.info()"
   ]
  },
  {
   "cell_type": "code",
   "execution_count": 4,
   "metadata": {},
   "outputs": [
    {
     "data": {
      "text/html": [
       "<div>\n",
       "<style scoped>\n",
       "    .dataframe tbody tr th:only-of-type {\n",
       "        vertical-align: middle;\n",
       "    }\n",
       "\n",
       "    .dataframe tbody tr th {\n",
       "        vertical-align: top;\n",
       "    }\n",
       "\n",
       "    .dataframe thead th {\n",
       "        text-align: right;\n",
       "    }\n",
       "</style>\n",
       "<table border=\"1\" class=\"dataframe\">\n",
       "  <thead>\n",
       "    <tr style=\"text-align: right;\">\n",
       "      <th></th>\n",
       "      <th>num_orders</th>\n",
       "    </tr>\n",
       "    <tr>\n",
       "      <th>datetime</th>\n",
       "      <th></th>\n",
       "    </tr>\n",
       "  </thead>\n",
       "  <tbody>\n",
       "    <tr>\n",
       "      <th>2018-03-01 00:00:00</th>\n",
       "      <td>9</td>\n",
       "    </tr>\n",
       "    <tr>\n",
       "      <th>2018-03-01 00:10:00</th>\n",
       "      <td>14</td>\n",
       "    </tr>\n",
       "    <tr>\n",
       "      <th>2018-03-01 00:20:00</th>\n",
       "      <td>28</td>\n",
       "    </tr>\n",
       "    <tr>\n",
       "      <th>2018-03-01 00:30:00</th>\n",
       "      <td>20</td>\n",
       "    </tr>\n",
       "    <tr>\n",
       "      <th>2018-03-01 00:40:00</th>\n",
       "      <td>32</td>\n",
       "    </tr>\n",
       "    <tr>\n",
       "      <th>...</th>\n",
       "      <td>...</td>\n",
       "    </tr>\n",
       "    <tr>\n",
       "      <th>2018-08-31 23:10:00</th>\n",
       "      <td>32</td>\n",
       "    </tr>\n",
       "    <tr>\n",
       "      <th>2018-08-31 23:20:00</th>\n",
       "      <td>24</td>\n",
       "    </tr>\n",
       "    <tr>\n",
       "      <th>2018-08-31 23:30:00</th>\n",
       "      <td>27</td>\n",
       "    </tr>\n",
       "    <tr>\n",
       "      <th>2018-08-31 23:40:00</th>\n",
       "      <td>39</td>\n",
       "    </tr>\n",
       "    <tr>\n",
       "      <th>2018-08-31 23:50:00</th>\n",
       "      <td>53</td>\n",
       "    </tr>\n",
       "  </tbody>\n",
       "</table>\n",
       "<p>26496 rows × 1 columns</p>\n",
       "</div>"
      ],
      "text/plain": [
       "                     num_orders\n",
       "datetime                       \n",
       "2018-03-01 00:00:00           9\n",
       "2018-03-01 00:10:00          14\n",
       "2018-03-01 00:20:00          28\n",
       "2018-03-01 00:30:00          20\n",
       "2018-03-01 00:40:00          32\n",
       "...                         ...\n",
       "2018-08-31 23:10:00          32\n",
       "2018-08-31 23:20:00          24\n",
       "2018-08-31 23:30:00          27\n",
       "2018-08-31 23:40:00          39\n",
       "2018-08-31 23:50:00          53\n",
       "\n",
       "[26496 rows x 1 columns]"
      ]
     },
     "execution_count": 4,
     "metadata": {},
     "output_type": "execute_result"
    }
   ],
   "source": [
    "df"
   ]
  },
  {
   "cell_type": "code",
   "execution_count": 5,
   "metadata": {},
   "outputs": [],
   "source": [
    "df.sort_index(inplace=True)"
   ]
  },
  {
   "cell_type": "code",
   "execution_count": 6,
   "metadata": {},
   "outputs": [],
   "source": [
    "df = df.resample('1H').sum()"
   ]
  },
  {
   "cell_type": "code",
   "execution_count": 7,
   "metadata": {},
   "outputs": [
    {
     "data": {
      "text/plain": [
       "True"
      ]
     },
     "execution_count": 7,
     "metadata": {},
     "output_type": "execute_result"
    }
   ],
   "source": [
    "df.index.is_monotonic"
   ]
  },
  {
   "cell_type": "code",
   "execution_count": 8,
   "metadata": {},
   "outputs": [
    {
     "data": {
      "text/html": [
       "<div>\n",
       "<style scoped>\n",
       "    .dataframe tbody tr th:only-of-type {\n",
       "        vertical-align: middle;\n",
       "    }\n",
       "\n",
       "    .dataframe tbody tr th {\n",
       "        vertical-align: top;\n",
       "    }\n",
       "\n",
       "    .dataframe thead th {\n",
       "        text-align: right;\n",
       "    }\n",
       "</style>\n",
       "<table border=\"1\" class=\"dataframe\">\n",
       "  <thead>\n",
       "    <tr style=\"text-align: right;\">\n",
       "      <th></th>\n",
       "      <th>num_orders</th>\n",
       "    </tr>\n",
       "    <tr>\n",
       "      <th>datetime</th>\n",
       "      <th></th>\n",
       "    </tr>\n",
       "  </thead>\n",
       "  <tbody>\n",
       "    <tr>\n",
       "      <th>2018-03-01 00:00:00</th>\n",
       "      <td>124</td>\n",
       "    </tr>\n",
       "    <tr>\n",
       "      <th>2018-03-01 01:00:00</th>\n",
       "      <td>85</td>\n",
       "    </tr>\n",
       "    <tr>\n",
       "      <th>2018-03-01 02:00:00</th>\n",
       "      <td>71</td>\n",
       "    </tr>\n",
       "    <tr>\n",
       "      <th>2018-03-01 03:00:00</th>\n",
       "      <td>66</td>\n",
       "    </tr>\n",
       "    <tr>\n",
       "      <th>2018-03-01 04:00:00</th>\n",
       "      <td>43</td>\n",
       "    </tr>\n",
       "    <tr>\n",
       "      <th>...</th>\n",
       "      <td>...</td>\n",
       "    </tr>\n",
       "    <tr>\n",
       "      <th>2018-08-31 19:00:00</th>\n",
       "      <td>136</td>\n",
       "    </tr>\n",
       "    <tr>\n",
       "      <th>2018-08-31 20:00:00</th>\n",
       "      <td>154</td>\n",
       "    </tr>\n",
       "    <tr>\n",
       "      <th>2018-08-31 21:00:00</th>\n",
       "      <td>159</td>\n",
       "    </tr>\n",
       "    <tr>\n",
       "      <th>2018-08-31 22:00:00</th>\n",
       "      <td>223</td>\n",
       "    </tr>\n",
       "    <tr>\n",
       "      <th>2018-08-31 23:00:00</th>\n",
       "      <td>205</td>\n",
       "    </tr>\n",
       "  </tbody>\n",
       "</table>\n",
       "<p>4416 rows × 1 columns</p>\n",
       "</div>"
      ],
      "text/plain": [
       "                     num_orders\n",
       "datetime                       \n",
       "2018-03-01 00:00:00         124\n",
       "2018-03-01 01:00:00          85\n",
       "2018-03-01 02:00:00          71\n",
       "2018-03-01 03:00:00          66\n",
       "2018-03-01 04:00:00          43\n",
       "...                         ...\n",
       "2018-08-31 19:00:00         136\n",
       "2018-08-31 20:00:00         154\n",
       "2018-08-31 21:00:00         159\n",
       "2018-08-31 22:00:00         223\n",
       "2018-08-31 23:00:00         205\n",
       "\n",
       "[4416 rows x 1 columns]"
      ]
     },
     "execution_count": 8,
     "metadata": {},
     "output_type": "execute_result"
    }
   ],
   "source": [
    "df"
   ]
  },
  {
   "cell_type": "code",
   "execution_count": 9,
   "metadata": {},
   "outputs": [
    {
     "name": "stdout",
     "output_type": "stream",
     "text": [
      "<class 'pandas.core.frame.DataFrame'>\n",
      "DatetimeIndex: 4416 entries, 2018-03-01 00:00:00 to 2018-08-31 23:00:00\n",
      "Freq: H\n",
      "Data columns (total 1 columns):\n",
      " #   Column      Non-Null Count  Dtype\n",
      "---  ------      --------------  -----\n",
      " 0   num_orders  4416 non-null   int64\n",
      "dtypes: int64(1)\n",
      "memory usage: 69.0 KB\n"
     ]
    }
   ],
   "source": [
    "df.info()"
   ]
  },
  {
   "cell_type": "markdown",
   "metadata": {},
   "source": [
    "Данные ресемплированы, расположены в хронологическом порядке<br>\n",
    "Имеем датафрейм с датами 2018-03-01 по 2018-08-31"
   ]
  },
  {
   "cell_type": "markdown",
   "metadata": {},
   "source": [
    "## Анализ"
   ]
  },
  {
   "cell_type": "code",
   "execution_count": 10,
   "metadata": {},
   "outputs": [
    {
     "data": {
      "image/png": "[encoded data removed]",
      "text/plain": [
       "<Figure size 720x720 with 1 Axes>"
      ]
     },
     "metadata": {
      "needs_background": "light"
     },
     "output_type": "display_data"
    }
   ],
   "source": [
    "df.plot(figsize=(10, 10))\n",
    "plt.title('Количество заказов в час')\n",
    "plt.show()"
   ]
  },
  {
   "cell_type": "code",
   "execution_count": 11,
   "metadata": {},
   "outputs": [
    {
     "data": {
      "image/png": "[encoded data removed]",
      "text/plain": [
       "<Figure size 720x720 with 1 Axes>"
      ]
     },
     "metadata": {
      "needs_background": "light"
     },
     "output_type": "display_data"
    }
   ],
   "source": [
    "df['rolling_mean'] = df['num_orders'].rolling(20).mean() # создали колонку со скользящей средней\n",
    "df['std'] = df['num_orders'].rolling(20).std() # создали колонку со стандартным отклонением\n",
    "df.plot(figsize=(10, 10))\n",
    "plt.title('Скользящая средняя и стандартное отклонение') # с скользящей средней\n",
    "plt.show()"
   ]
  },
  {
   "cell_type": "markdown",
   "metadata": {},
   "source": [
    "Посмотрим в цифрах равномерное ли изменение посясячно (мясяц к месяцу)."
   ]
  },
  {
   "cell_type": "code",
   "execution_count": 12,
   "metadata": {},
   "outputs": [
    {
     "name": "stdout",
     "output_type": "stream",
     "text": [
      "num_orders      1026.324600\n",
      "rolling_mean     110.848898\n",
      "std               48.722659\n",
      "dtype: float64 Апрель\n",
      "num_orders      1214.510282\n",
      "rolling_mean     146.842638\n",
      "std               69.644185\n",
      "dtype: float64 Мая\n",
      "num_orders      1077.597211\n",
      "rolling_mean      99.637516\n",
      "std               35.362119\n",
      "dtype: float64 Июнь\n",
      "num_orders      1387.917855\n",
      "rolling_mean     114.589488\n",
      "std               50.168805\n",
      "dtype: float64 Июль\n",
      "num_orders      3163.188206\n",
      "rolling_mean     465.761939\n",
      "std              230.580691\n",
      "dtype: float64 Август\n"
     ]
    }
   ],
   "source": [
    "print(df['2018-04'].var(), \"Апрель\")\n",
    "print(df['2018-05'].var(), \"Мая\")\n",
    "print(df['2018-06'].var(), \"Июнь\")\n",
    "print(df['2018-07'].var(), \"Июль\")\n",
    "print(df['2018-08'].var(), \"Август\")\n"
   ]
  },
  {
   "cell_type": "code",
   "execution_count": 13,
   "metadata": {},
   "outputs": [
    {
     "name": "stdout",
     "output_type": "stream",
     "text": [
      "num_orders      18.335883\n",
      "rolling_mean    32.470994\n",
      "std             42.940033\n",
      "dtype: float64 %\n",
      "******************************\n",
      "num_orders     -11.273109\n",
      "rolling_mean   -32.146740\n",
      "std            -49.224592\n",
      "dtype: float64 %\n",
      "******************************\n",
      "num_orders      28.797462\n",
      "rolling_mean    15.006368\n",
      "std             41.871602\n",
      "dtype: float64 %\n",
      "******************************\n",
      "num_orders      127.908892\n",
      "rolling_mean    306.461315\n",
      "std             359.609696\n",
      "dtype: float64 %\n"
     ]
    }
   ],
   "source": [
    "print((df['2018-05'].var() / df['2018-04'].var()- 1)*100, '%')\n",
    "print('*'*30)\n",
    "print(((df['2018-06'].var() / df['2018-05'].var())- 1)*100, '%')\n",
    "print('*'*30)\n",
    "print(((df['2018-07'].var() / df['2018-06'].var())- 1)*100, '%')\n",
    "print('*'*30)\n",
    "print(((df['2018-08'].var() / df['2018-07'].var())- 1)*100, '%')"
   ]
  },
  {
   "cell_type": "markdown",
   "metadata": {},
   "source": [
    "Мы видим, неравномерное изменение среднего и дисперсии, которые сильно меняеются со временем, значит временной ряд нестационарный."
   ]
  },
  {
   "cell_type": "code",
   "execution_count": 14,
   "metadata": {},
   "outputs": [],
   "source": [
    "data = df.copy()"
   ]
  },
  {
   "cell_type": "markdown",
   "metadata": {},
   "source": [
    "Чтобы не менять значения семплирования исходной таблицы скопируем датафейм в новую переменную с семплированием по дням."
   ]
  },
  {
   "cell_type": "code",
   "execution_count": 15,
   "metadata": {},
   "outputs": [],
   "source": [
    "data = data.drop(['rolling_mean', 'std'], axis=1)"
   ]
  },
  {
   "cell_type": "code",
   "execution_count": 16,
   "metadata": {},
   "outputs": [],
   "source": [
    "data = data.resample('1d').sum()"
   ]
  },
  {
   "cell_type": "code",
   "execution_count": 17,
   "metadata": {},
   "outputs": [
    {
     "data": {
      "text/html": [
       "<div>\n",
       "<style scoped>\n",
       "    .dataframe tbody tr th:only-of-type {\n",
       "        vertical-align: middle;\n",
       "    }\n",
       "\n",
       "    .dataframe tbody tr th {\n",
       "        vertical-align: top;\n",
       "    }\n",
       "\n",
       "    .dataframe thead th {\n",
       "        text-align: right;\n",
       "    }\n",
       "</style>\n",
       "<table border=\"1\" class=\"dataframe\">\n",
       "  <thead>\n",
       "    <tr style=\"text-align: right;\">\n",
       "      <th></th>\n",
       "      <th>num_orders</th>\n",
       "    </tr>\n",
       "    <tr>\n",
       "      <th>datetime</th>\n",
       "      <th></th>\n",
       "    </tr>\n",
       "  </thead>\n",
       "  <tbody>\n",
       "    <tr>\n",
       "      <th>2018-03-01</th>\n",
       "      <td>1364</td>\n",
       "    </tr>\n",
       "    <tr>\n",
       "      <th>2018-03-02</th>\n",
       "      <td>1506</td>\n",
       "    </tr>\n",
       "    <tr>\n",
       "      <th>2018-03-03</th>\n",
       "      <td>1290</td>\n",
       "    </tr>\n",
       "    <tr>\n",
       "      <th>2018-03-04</th>\n",
       "      <td>1141</td>\n",
       "    </tr>\n",
       "    <tr>\n",
       "      <th>2018-03-05</th>\n",
       "      <td>1259</td>\n",
       "    </tr>\n",
       "    <tr>\n",
       "      <th>...</th>\n",
       "      <td>...</td>\n",
       "    </tr>\n",
       "    <tr>\n",
       "      <th>2018-08-27</th>\n",
       "      <td>3936</td>\n",
       "    </tr>\n",
       "    <tr>\n",
       "      <th>2018-08-28</th>\n",
       "      <td>3357</td>\n",
       "    </tr>\n",
       "    <tr>\n",
       "      <th>2018-08-29</th>\n",
       "      <td>3762</td>\n",
       "    </tr>\n",
       "    <tr>\n",
       "      <th>2018-08-30</th>\n",
       "      <td>4090</td>\n",
       "    </tr>\n",
       "    <tr>\n",
       "      <th>2018-08-31</th>\n",
       "      <td>4018</td>\n",
       "    </tr>\n",
       "  </tbody>\n",
       "</table>\n",
       "<p>184 rows × 1 columns</p>\n",
       "</div>"
      ],
      "text/plain": [
       "            num_orders\n",
       "datetime              \n",
       "2018-03-01        1364\n",
       "2018-03-02        1506\n",
       "2018-03-03        1290\n",
       "2018-03-04        1141\n",
       "2018-03-05        1259\n",
       "...                ...\n",
       "2018-08-27        3936\n",
       "2018-08-28        3357\n",
       "2018-08-29        3762\n",
       "2018-08-30        4090\n",
       "2018-08-31        4018\n",
       "\n",
       "[184 rows x 1 columns]"
      ]
     },
     "execution_count": 17,
     "metadata": {},
     "output_type": "execute_result"
    }
   ],
   "source": [
    "data"
   ]
  },
  {
   "cell_type": "code",
   "execution_count": 18,
   "metadata": {},
   "outputs": [
    {
     "data": {
      "image/png": "[encoded data removed]",
      "text/plain": [
       "<Figure size 792x792 with 3 Axes>"
      ]
     },
     "metadata": {
      "needs_background": "light"
     },
     "output_type": "display_data"
    }
   ],
   "source": [
    "decomposed = seasonal_decompose(data) \n",
    "\n",
    "plt.figure(figsize=(11, 11))\n",
    "plt.subplot(311)\n",
    "# Чтобы график корректно отобразился, указываем его\n",
    "# оси ax, равными plt.gca() (англ. get current axis,\n",
    "# получить текущие оси)\n",
    "decomposed.trend.plot(ax=plt.gca())\n",
    "plt.title('Trend за все время')\n",
    "plt.subplot(312)\n",
    "decomposed.seasonal['2018-04-01' : '2018-04-30'].plot(ax=plt.gca())\n",
    "plt.title('Распредение сезонности в апреле')\n",
    "plt.subplot(313)\n",
    "decomposed.seasonal['2018-07-01' : '2018-07-30'].plot(ax=plt.gca())\n",
    "plt.title('Распредение сезонности в июле')\n",
    "plt.show()"
   ]
  },
  {
   "cell_type": "code",
   "execution_count": 19,
   "metadata": {},
   "outputs": [],
   "source": [
    "data1 = df.copy() # Создадим еще одну переменную с семплированным по 1 часу данным"
   ]
  },
  {
   "cell_type": "code",
   "execution_count": 20,
   "metadata": {},
   "outputs": [],
   "source": [
    "data1 = data1.drop(['rolling_mean', 'std'], axis=1)\n",
    "decomposed_hour = seasonal_decompose(data1) "
   ]
  },
  {
   "cell_type": "code",
   "execution_count": 21,
   "metadata": {},
   "outputs": [
    {
     "data": {
      "image/png": "[encoded data removed]",
      "text/plain": [
       "<Figure size 1296x288 with 1 Axes>"
      ]
     },
     "metadata": {
      "needs_background": "light"
     },
     "output_type": "display_data"
    }
   ],
   "source": [
    "plt.figure(figsize=(18, 4))\n",
    "decomposed_hour.seasonal['2018-04-11':'2018-04-13'].plot(ax=plt.gca()) \n",
    "plt.title('Нагрузки в течение дня')\n",
    "plt.show()\n"
   ]
  },
  {
   "cell_type": "markdown",
   "metadata": {},
   "source": [
    "**Вывод:** <br>\n",
    "Количество заказов такси растет со временем. График распредение сезонности повторяется каждую неделю, значит количество заказов такси в текущей неделе по дням недели схож с количеством заказов по дням предыдущей недели. Имеюся сильные просадки в определенные дни недели и пиковые количества заказов. Также в течение дня видим пик спроса к 00 часов, далее падение до минимума заказов в 6 утра."
   ]
  },
  {
   "cell_type": "markdown",
   "metadata": {},
   "source": [
    "## Обучение моделей"
   ]
  },
  {
   "cell_type": "code",
   "execution_count": 22,
   "metadata": {},
   "outputs": [],
   "source": [
    "df = df.drop(['rolling_mean'], axis=1) #удалим колонку со средним"
   ]
  },
  {
   "cell_type": "markdown",
   "metadata": {},
   "source": [
    "Напишем функцию для создания признаков"
   ]
  },
  {
   "cell_type": "code",
   "execution_count": 23,
   "metadata": {},
   "outputs": [],
   "source": [
    "def make_features(df, max_lag, rolling_mean_size):\n",
    "    df['hour'] = df.index.hour\n",
    "    df['day'] = df.index.day\n",
    "    df['dayofweek'] = df.index.dayofweek\n",
    "    \n",
    "    for lag in range(1, max_lag + 1):\n",
    "        df['lag_{}'.format(lag)] = df['num_orders'].shift(lag)\n",
    "\n",
    "    data['rolling_mean'] = data['num_orders'].shift().rolling(rolling_mean_size).mean()\n",
    "\n",
    "\n"
   ]
  },
  {
   "cell_type": "code",
   "execution_count": 24,
   "metadata": {},
   "outputs": [],
   "source": [
    "make_features(df, 24, 24)"
   ]
  },
  {
   "cell_type": "markdown",
   "metadata": {},
   "source": [
    "Поделим общий датасет на обучающую и тестовую выборки. Тест = 10%. Место кросс-валидации будем использовать TimeSeriesSplit."
   ]
  },
  {
   "cell_type": "code",
   "execution_count": 25,
   "metadata": {},
   "outputs": [],
   "source": [
    "train, test = train_test_split(df, shuffle=False, test_size=0.1)"
   ]
  },
  {
   "cell_type": "code",
   "execution_count": 26,
   "metadata": {},
   "outputs": [],
   "source": [
    "train = train.dropna()\n",
    "\n",
    "test = test.dropna()"
   ]
  },
  {
   "cell_type": "code",
   "execution_count": 27,
   "metadata": {},
   "outputs": [
    {
     "name": "stdout",
     "output_type": "stream",
     "text": [
      "(3950, 29)\n",
      "(442, 29)\n"
     ]
    }
   ],
   "source": [
    "print(train.shape) \n",
    "print(test.shape)"
   ]
  },
  {
   "cell_type": "code",
   "execution_count": 28,
   "metadata": {},
   "outputs": [],
   "source": [
    "features_train = train.drop(['num_orders'], axis=1)\n",
    "features_test = test.drop(['num_orders'], axis=1)\n",
    "\n",
    "\n",
    "target_train = train['num_orders']\n",
    "target_test = test['num_orders']"
   ]
  },
  {
   "cell_type": "code",
   "execution_count": 29,
   "metadata": {},
   "outputs": [
    {
     "data": {
      "text/html": [
       "<div>\n",
       "<style scoped>\n",
       "    .dataframe tbody tr th:only-of-type {\n",
       "        vertical-align: middle;\n",
       "    }\n",
       "\n",
       "    .dataframe tbody tr th {\n",
       "        vertical-align: top;\n",
       "    }\n",
       "\n",
       "    .dataframe thead th {\n",
       "        text-align: right;\n",
       "    }\n",
       "</style>\n",
       "<table border=\"1\" class=\"dataframe\">\n",
       "  <thead>\n",
       "    <tr style=\"text-align: right;\">\n",
       "      <th></th>\n",
       "      <th>std</th>\n",
       "      <th>hour</th>\n",
       "      <th>day</th>\n",
       "      <th>dayofweek</th>\n",
       "      <th>lag_1</th>\n",
       "      <th>lag_2</th>\n",
       "      <th>lag_3</th>\n",
       "      <th>lag_4</th>\n",
       "      <th>lag_5</th>\n",
       "      <th>lag_6</th>\n",
       "      <th>...</th>\n",
       "      <th>lag_15</th>\n",
       "      <th>lag_16</th>\n",
       "      <th>lag_17</th>\n",
       "      <th>lag_18</th>\n",
       "      <th>lag_19</th>\n",
       "      <th>lag_20</th>\n",
       "      <th>lag_21</th>\n",
       "      <th>lag_22</th>\n",
       "      <th>lag_23</th>\n",
       "      <th>lag_24</th>\n",
       "    </tr>\n",
       "    <tr>\n",
       "      <th>datetime</th>\n",
       "      <th></th>\n",
       "      <th></th>\n",
       "      <th></th>\n",
       "      <th></th>\n",
       "      <th></th>\n",
       "      <th></th>\n",
       "      <th></th>\n",
       "      <th></th>\n",
       "      <th></th>\n",
       "      <th></th>\n",
       "      <th></th>\n",
       "      <th></th>\n",
       "      <th></th>\n",
       "      <th></th>\n",
       "      <th></th>\n",
       "      <th></th>\n",
       "      <th></th>\n",
       "      <th></th>\n",
       "      <th></th>\n",
       "      <th></th>\n",
       "      <th></th>\n",
       "    </tr>\n",
       "  </thead>\n",
       "  <tbody>\n",
       "    <tr>\n",
       "      <th>2018-03-02 00:00:00</th>\n",
       "      <td>28.056100</td>\n",
       "      <td>0</td>\n",
       "      <td>2</td>\n",
       "      <td>4</td>\n",
       "      <td>58.0</td>\n",
       "      <td>113.0</td>\n",
       "      <td>66.0</td>\n",
       "      <td>61.0</td>\n",
       "      <td>45.0</td>\n",
       "      <td>73.0</td>\n",
       "      <td>...</td>\n",
       "      <td>69.0</td>\n",
       "      <td>34.0</td>\n",
       "      <td>15.0</td>\n",
       "      <td>12.0</td>\n",
       "      <td>6.0</td>\n",
       "      <td>43.0</td>\n",
       "      <td>66.0</td>\n",
       "      <td>71.0</td>\n",
       "      <td>85.0</td>\n",
       "      <td>124.0</td>\n",
       "    </tr>\n",
       "    <tr>\n",
       "      <th>2018-03-02 01:00:00</th>\n",
       "      <td>29.494826</td>\n",
       "      <td>1</td>\n",
       "      <td>2</td>\n",
       "      <td>4</td>\n",
       "      <td>90.0</td>\n",
       "      <td>58.0</td>\n",
       "      <td>113.0</td>\n",
       "      <td>66.0</td>\n",
       "      <td>61.0</td>\n",
       "      <td>45.0</td>\n",
       "      <td>...</td>\n",
       "      <td>64.0</td>\n",
       "      <td>69.0</td>\n",
       "      <td>34.0</td>\n",
       "      <td>15.0</td>\n",
       "      <td>12.0</td>\n",
       "      <td>6.0</td>\n",
       "      <td>43.0</td>\n",
       "      <td>66.0</td>\n",
       "      <td>71.0</td>\n",
       "      <td>85.0</td>\n",
       "    </tr>\n",
       "    <tr>\n",
       "      <th>2018-03-02 02:00:00</th>\n",
       "      <td>27.514398</td>\n",
       "      <td>2</td>\n",
       "      <td>2</td>\n",
       "      <td>4</td>\n",
       "      <td>120.0</td>\n",
       "      <td>90.0</td>\n",
       "      <td>58.0</td>\n",
       "      <td>113.0</td>\n",
       "      <td>66.0</td>\n",
       "      <td>61.0</td>\n",
       "      <td>...</td>\n",
       "      <td>96.0</td>\n",
       "      <td>64.0</td>\n",
       "      <td>69.0</td>\n",
       "      <td>34.0</td>\n",
       "      <td>15.0</td>\n",
       "      <td>12.0</td>\n",
       "      <td>6.0</td>\n",
       "      <td>43.0</td>\n",
       "      <td>66.0</td>\n",
       "      <td>71.0</td>\n",
       "    </tr>\n",
       "    <tr>\n",
       "      <th>2018-03-02 03:00:00</th>\n",
       "      <td>25.182440</td>\n",
       "      <td>3</td>\n",
       "      <td>2</td>\n",
       "      <td>4</td>\n",
       "      <td>75.0</td>\n",
       "      <td>120.0</td>\n",
       "      <td>90.0</td>\n",
       "      <td>58.0</td>\n",
       "      <td>113.0</td>\n",
       "      <td>66.0</td>\n",
       "      <td>...</td>\n",
       "      <td>30.0</td>\n",
       "      <td>96.0</td>\n",
       "      <td>64.0</td>\n",
       "      <td>69.0</td>\n",
       "      <td>34.0</td>\n",
       "      <td>15.0</td>\n",
       "      <td>12.0</td>\n",
       "      <td>6.0</td>\n",
       "      <td>43.0</td>\n",
       "      <td>66.0</td>\n",
       "    </tr>\n",
       "    <tr>\n",
       "      <th>2018-03-02 04:00:00</th>\n",
       "      <td>26.248358</td>\n",
       "      <td>4</td>\n",
       "      <td>2</td>\n",
       "      <td>4</td>\n",
       "      <td>64.0</td>\n",
       "      <td>75.0</td>\n",
       "      <td>120.0</td>\n",
       "      <td>90.0</td>\n",
       "      <td>58.0</td>\n",
       "      <td>113.0</td>\n",
       "      <td>...</td>\n",
       "      <td>32.0</td>\n",
       "      <td>30.0</td>\n",
       "      <td>96.0</td>\n",
       "      <td>64.0</td>\n",
       "      <td>69.0</td>\n",
       "      <td>34.0</td>\n",
       "      <td>15.0</td>\n",
       "      <td>12.0</td>\n",
       "      <td>6.0</td>\n",
       "      <td>43.0</td>\n",
       "    </tr>\n",
       "    <tr>\n",
       "      <th>...</th>\n",
       "      <td>...</td>\n",
       "      <td>...</td>\n",
       "      <td>...</td>\n",
       "      <td>...</td>\n",
       "      <td>...</td>\n",
       "      <td>...</td>\n",
       "      <td>...</td>\n",
       "      <td>...</td>\n",
       "      <td>...</td>\n",
       "      <td>...</td>\n",
       "      <td>...</td>\n",
       "      <td>...</td>\n",
       "      <td>...</td>\n",
       "      <td>...</td>\n",
       "      <td>...</td>\n",
       "      <td>...</td>\n",
       "      <td>...</td>\n",
       "      <td>...</td>\n",
       "      <td>...</td>\n",
       "      <td>...</td>\n",
       "      <td>...</td>\n",
       "    </tr>\n",
       "    <tr>\n",
       "      <th>2018-08-13 09:00:00</th>\n",
       "      <td>86.479143</td>\n",
       "      <td>9</td>\n",
       "      <td>13</td>\n",
       "      <td>0</td>\n",
       "      <td>91.0</td>\n",
       "      <td>39.0</td>\n",
       "      <td>66.0</td>\n",
       "      <td>83.0</td>\n",
       "      <td>143.0</td>\n",
       "      <td>168.0</td>\n",
       "      <td>...</td>\n",
       "      <td>78.0</td>\n",
       "      <td>115.0</td>\n",
       "      <td>153.0</td>\n",
       "      <td>149.0</td>\n",
       "      <td>104.0</td>\n",
       "      <td>120.0</td>\n",
       "      <td>123.0</td>\n",
       "      <td>81.0</td>\n",
       "      <td>108.0</td>\n",
       "      <td>108.0</td>\n",
       "    </tr>\n",
       "    <tr>\n",
       "      <th>2018-08-13 10:00:00</th>\n",
       "      <td>86.098536</td>\n",
       "      <td>10</td>\n",
       "      <td>13</td>\n",
       "      <td>0</td>\n",
       "      <td>137.0</td>\n",
       "      <td>91.0</td>\n",
       "      <td>39.0</td>\n",
       "      <td>66.0</td>\n",
       "      <td>83.0</td>\n",
       "      <td>143.0</td>\n",
       "      <td>...</td>\n",
       "      <td>82.0</td>\n",
       "      <td>78.0</td>\n",
       "      <td>115.0</td>\n",
       "      <td>153.0</td>\n",
       "      <td>149.0</td>\n",
       "      <td>104.0</td>\n",
       "      <td>120.0</td>\n",
       "      <td>123.0</td>\n",
       "      <td>81.0</td>\n",
       "      <td>108.0</td>\n",
       "    </tr>\n",
       "    <tr>\n",
       "      <th>2018-08-13 11:00:00</th>\n",
       "      <td>86.088373</td>\n",
       "      <td>11</td>\n",
       "      <td>13</td>\n",
       "      <td>0</td>\n",
       "      <td>156.0</td>\n",
       "      <td>137.0</td>\n",
       "      <td>91.0</td>\n",
       "      <td>39.0</td>\n",
       "      <td>66.0</td>\n",
       "      <td>83.0</td>\n",
       "      <td>...</td>\n",
       "      <td>98.0</td>\n",
       "      <td>82.0</td>\n",
       "      <td>78.0</td>\n",
       "      <td>115.0</td>\n",
       "      <td>153.0</td>\n",
       "      <td>149.0</td>\n",
       "      <td>104.0</td>\n",
       "      <td>120.0</td>\n",
       "      <td>123.0</td>\n",
       "      <td>81.0</td>\n",
       "    </tr>\n",
       "    <tr>\n",
       "      <th>2018-08-13 12:00:00</th>\n",
       "      <td>86.794979</td>\n",
       "      <td>12</td>\n",
       "      <td>13</td>\n",
       "      <td>0</td>\n",
       "      <td>144.0</td>\n",
       "      <td>156.0</td>\n",
       "      <td>137.0</td>\n",
       "      <td>91.0</td>\n",
       "      <td>39.0</td>\n",
       "      <td>66.0</td>\n",
       "      <td>...</td>\n",
       "      <td>135.0</td>\n",
       "      <td>98.0</td>\n",
       "      <td>82.0</td>\n",
       "      <td>78.0</td>\n",
       "      <td>115.0</td>\n",
       "      <td>153.0</td>\n",
       "      <td>149.0</td>\n",
       "      <td>104.0</td>\n",
       "      <td>120.0</td>\n",
       "      <td>123.0</td>\n",
       "    </tr>\n",
       "    <tr>\n",
       "      <th>2018-08-13 13:00:00</th>\n",
       "      <td>86.738931</td>\n",
       "      <td>13</td>\n",
       "      <td>13</td>\n",
       "      <td>0</td>\n",
       "      <td>92.0</td>\n",
       "      <td>144.0</td>\n",
       "      <td>156.0</td>\n",
       "      <td>137.0</td>\n",
       "      <td>91.0</td>\n",
       "      <td>39.0</td>\n",
       "      <td>...</td>\n",
       "      <td>118.0</td>\n",
       "      <td>135.0</td>\n",
       "      <td>98.0</td>\n",
       "      <td>82.0</td>\n",
       "      <td>78.0</td>\n",
       "      <td>115.0</td>\n",
       "      <td>153.0</td>\n",
       "      <td>149.0</td>\n",
       "      <td>104.0</td>\n",
       "      <td>120.0</td>\n",
       "    </tr>\n",
       "  </tbody>\n",
       "</table>\n",
       "<p>3950 rows × 28 columns</p>\n",
       "</div>"
      ],
      "text/plain": [
       "                           std  hour  day  dayofweek  lag_1  lag_2  lag_3  \\\n",
       "datetime                                                                    \n",
       "2018-03-02 00:00:00  28.056100     0    2          4   58.0  113.0   66.0   \n",
       "2018-03-02 01:00:00  29.494826     1    2          4   90.0   58.0  113.0   \n",
       "2018-03-02 02:00:00  27.514398     2    2          4  120.0   90.0   58.0   \n",
       "2018-03-02 03:00:00  25.182440     3    2          4   75.0  120.0   90.0   \n",
       "2018-03-02 04:00:00  26.248358     4    2          4   64.0   75.0  120.0   \n",
       "...                        ...   ...  ...        ...    ...    ...    ...   \n",
       "2018-08-13 09:00:00  86.479143     9   13          0   91.0   39.0   66.0   \n",
       "2018-08-13 10:00:00  86.098536    10   13          0  137.0   91.0   39.0   \n",
       "2018-08-13 11:00:00  86.088373    11   13          0  156.0  137.0   91.0   \n",
       "2018-08-13 12:00:00  86.794979    12   13          0  144.0  156.0  137.0   \n",
       "2018-08-13 13:00:00  86.738931    13   13          0   92.0  144.0  156.0   \n",
       "\n",
       "                     lag_4  lag_5  lag_6  ...  lag_15  lag_16  lag_17  lag_18  \\\n",
       "datetime                                  ...                                   \n",
       "2018-03-02 00:00:00   61.0   45.0   73.0  ...    69.0    34.0    15.0    12.0   \n",
       "2018-03-02 01:00:00   66.0   61.0   45.0  ...    64.0    69.0    34.0    15.0   \n",
       "2018-03-02 02:00:00  113.0   66.0   61.0  ...    96.0    64.0    69.0    34.0   \n",
       "2018-03-02 03:00:00   58.0  113.0   66.0  ...    30.0    96.0    64.0    69.0   \n",
       "2018-03-02 04:00:00   90.0   58.0  113.0  ...    32.0    30.0    96.0    64.0   \n",
       "...                    ...    ...    ...  ...     ...     ...     ...     ...   \n",
       "2018-08-13 09:00:00   83.0  143.0  168.0  ...    78.0   115.0   153.0   149.0   \n",
       "2018-08-13 10:00:00   66.0   83.0  143.0  ...    82.0    78.0   115.0   153.0   \n",
       "2018-08-13 11:00:00   39.0   66.0   83.0  ...    98.0    82.0    78.0   115.0   \n",
       "2018-08-13 12:00:00   91.0   39.0   66.0  ...   135.0    98.0    82.0    78.0   \n",
       "2018-08-13 13:00:00  137.0   91.0   39.0  ...   118.0   135.0    98.0    82.0   \n",
       "\n",
       "                     lag_19  lag_20  lag_21  lag_22  lag_23  lag_24  \n",
       "datetime                                                             \n",
       "2018-03-02 00:00:00     6.0    43.0    66.0    71.0    85.0   124.0  \n",
       "2018-03-02 01:00:00    12.0     6.0    43.0    66.0    71.0    85.0  \n",
       "2018-03-02 02:00:00    15.0    12.0     6.0    43.0    66.0    71.0  \n",
       "2018-03-02 03:00:00    34.0    15.0    12.0     6.0    43.0    66.0  \n",
       "2018-03-02 04:00:00    69.0    34.0    15.0    12.0     6.0    43.0  \n",
       "...                     ...     ...     ...     ...     ...     ...  \n",
       "2018-08-13 09:00:00   104.0   120.0   123.0    81.0   108.0   108.0  \n",
       "2018-08-13 10:00:00   149.0   104.0   120.0   123.0    81.0   108.0  \n",
       "2018-08-13 11:00:00   153.0   149.0   104.0   120.0   123.0    81.0  \n",
       "2018-08-13 12:00:00   115.0   153.0   149.0   104.0   120.0   123.0  \n",
       "2018-08-13 13:00:00    78.0   115.0   153.0   149.0   104.0   120.0  \n",
       "\n",
       "[3950 rows x 28 columns]"
      ]
     },
     "execution_count": 29,
     "metadata": {},
     "output_type": "execute_result"
    }
   ],
   "source": [
    "features_train"
   ]
  },
  {
   "cell_type": "code",
   "execution_count": 30,
   "metadata": {},
   "outputs": [
    {
     "data": {
      "text/plain": [
       "datetime\n",
       "2018-03-02 00:00:00     90\n",
       "2018-03-02 01:00:00    120\n",
       "2018-03-02 02:00:00     75\n",
       "2018-03-02 03:00:00     64\n",
       "2018-03-02 04:00:00     20\n",
       "                      ... \n",
       "2018-08-13 09:00:00    137\n",
       "2018-08-13 10:00:00    156\n",
       "2018-08-13 11:00:00    144\n",
       "2018-08-13 12:00:00     92\n",
       "2018-08-13 13:00:00    119\n",
       "Freq: H, Name: num_orders, Length: 3950, dtype: int64"
      ]
     },
     "execution_count": 30,
     "metadata": {},
     "output_type": "execute_result"
    }
   ],
   "source": [
    "target_train"
   ]
  },
  {
   "cell_type": "code",
   "execution_count": 31,
   "metadata": {},
   "outputs": [],
   "source": [
    "tscv = TimeSeriesSplit(n_splits=5)"
   ]
  },
  {
   "cell_type": "markdown",
   "metadata": {},
   "source": [
    "**LinearRegression**"
   ]
  },
  {
   "cell_type": "markdown",
   "metadata": {},
   "source": [
    "Найдем лучшие гиперпараметры для предсказания"
   ]
  },
  {
   "cell_type": "code",
   "execution_count": 32,
   "metadata": {},
   "outputs": [
    {
     "name": "stdout",
     "output_type": "stream",
     "text": [
      "{'copy_X': True, 'fit_intercept': False, 'normalize': True}\n",
      "-748.9444774941217\n",
      "CPU times: user 2.71 s, sys: 4.4 s, total: 7.12 s\n",
      "Wall time: 7.1 s\n"
     ]
    }
   ],
   "source": [
    "%%time\n",
    "\n",
    "\n",
    "lr_params = {'fit_intercept':[True,False], 'normalize':[True,False], 'copy_X':[True, False]}\n",
    "             \n",
    "             \n",
    "lr_model = LinearRegression()\n",
    "\n",
    "grid_lr = GridSearchCV(estimator = lr_model, param_grid = lr_params, scoring='neg_mean_squared_error', cv=tscv)\n",
    "grid_lr.fit(features_train, target_train)\n",
    "\n",
    "\n",
    "best_hyperparams_lr = grid_lr.best_params_\n",
    "best_score_lr = grid_lr.best_score_\n",
    "\n",
    "print(best_hyperparams_lr)\n",
    "print(best_score_lr)\n",
    "\n",
    "\n"
   ]
  },
  {
   "cell_type": "code",
   "execution_count": 33,
   "metadata": {},
   "outputs": [
    {
     "name": "stdout",
     "output_type": "stream",
     "text": [
      "RMSE обучающей выборки: 25.52\n",
      "CPU times: user 47.7 ms, sys: 54.9 ms, total: 103 ms\n",
      "Wall time: 102 ms\n"
     ]
    }
   ],
   "source": [
    "%%time\n",
    "\n",
    "lr_model = LinearRegression(copy_X = True, fit_intercept = False, normalize = True)\n",
    "\n",
    "lr_model.fit(features_train, target_train)\n",
    "\n",
    "pred = lr_model.predict(features_train)\n",
    "\n",
    "mse_lr = mean_squared_error(target_train, pred)\n",
    "\n",
    "\n",
    "print(\"RMSE обучающей выборки:\", round(mse_lr**0.5, 2))\n"
   ]
  },
  {
   "cell_type": "markdown",
   "metadata": {},
   "source": [
    "**DecisionTreeRegressor**"
   ]
  },
  {
   "cell_type": "code",
   "execution_count": 34,
   "metadata": {},
   "outputs": [
    {
     "name": "stdout",
     "output_type": "stream",
     "text": [
      "{'max_depth': 5}\n",
      "-930.5247333551008\n",
      "CPU times: user 53.4 s, sys: 165 ms, total: 53.6 s\n",
      "Wall time: 53.6 s\n"
     ]
    }
   ],
   "source": [
    "%%time\n",
    "\n",
    "\n",
    "DTR = DecisionTreeRegressor(random_state=12345,\n",
    "                            max_depth=140)\n",
    "\n",
    "numbers = list(range(1,240))\n",
    "param = {'max_depth':numbers}\n",
    "         \n",
    "grid_CV = GridSearchCV(estimator = DTR, param_grid = param, scoring = 'neg_mean_squared_error', cv=tscv) \n",
    "\n",
    "grid_CV.fit(features_train, target_train)\n",
    "\n",
    "best_hyperparams_dtr = grid_CV.best_params_\n",
    "best_score_dtr = grid_CV.best_score_\n",
    "\n",
    "print(best_hyperparams_dtr)\n",
    "print(best_score_dtr)"
   ]
  },
  {
   "cell_type": "code",
   "execution_count": 35,
   "metadata": {},
   "outputs": [
    {
     "name": "stdout",
     "output_type": "stream",
     "text": [
      "RMSE обучающей выборки: 24.59\n",
      "CPU times: user 32.2 ms, sys: 4.02 ms, total: 36.3 ms\n",
      "Wall time: 35.2 ms\n"
     ]
    }
   ],
   "source": [
    "%%time \n",
    "\n",
    "DTR = DecisionTreeRegressor(random_state=12345,\n",
    "                            max_depth=5)   \n",
    "\n",
    "\n",
    "DTR.fit(features_train, target_train)\n",
    "\n",
    "predictions = DTR.predict(features_train)\n",
    "\n",
    "mse_dtr = mean_squared_error(target_train, predictions)\n",
    "\n",
    "print(\"RMSE обучающей выборки:\", round(mse_dtr**0.5, 2))"
   ]
  },
  {
   "cell_type": "markdown",
   "metadata": {},
   "source": [
    "**RandomForestRegressor**"
   ]
  },
  {
   "cell_type": "code",
   "execution_count": 36,
   "metadata": {},
   "outputs": [
    {
     "name": "stdout",
     "output_type": "stream",
     "text": [
      "best_score: 24.477367072339376\n",
      "best_params: {'max_depth': 13, 'n_estimators': 71}\n",
      "CPU times: user 11min 57s, sys: 2.45 s, total: 12min\n",
      "Wall time: 12min\n"
     ]
    }
   ],
   "source": [
    "%%time\n",
    "\n",
    "model_rf = RandomForestRegressor(random_state=12345)\n",
    "\n",
    "param_grid_rf = {\n",
    "    'n_estimators': range(1, 100, 10),\n",
    "    'max_depth': range(2, 20),\n",
    "    \n",
    "}\n",
    "\n",
    "gs_rf = GridSearchCV(\n",
    "    estimator = model_rf,\n",
    "    param_grid=param_grid_rf, \n",
    "    scoring='neg_root_mean_squared_error',\n",
    "    cv=tscv\n",
    ")\n",
    "\n",
    "gs_rf.fit(features_train, target_train)\n",
    "\n",
    "gs_rf_best_score = gs_rf.best_score_ * -1\n",
    "gs_rf_best_params = gs_rf.best_params_\n",
    "\n",
    "\n",
    "print(f'best_score: {gs_rf_best_score}')\n",
    "print(f'best_params: {gs_rf_best_params}')"
   ]
  },
  {
   "cell_type": "code",
   "execution_count": 45,
   "metadata": {
    "scrolled": true
   },
   "outputs": [
    {
     "name": "stdout",
     "output_type": "stream",
     "text": [
      "RMSE обучающей выборки: 10.44\n",
      "CPU times: user 3.29 s, sys: 16 ms, total: 3.3 s\n",
      "Wall time: 3.3 s\n"
     ]
    }
   ],
   "source": [
    "%%time\n",
    "\n",
    "model_rf = RandomForestRegressor(random_state=12345,\n",
    "                                n_estimators=71,   \n",
    "                                max_depth=13)\n",
    "\n",
    "\n",
    "model_rf.fit(features_train, target_train)\n",
    "\n",
    "predictions = model_rf.predict(features_train)\n",
    "\n",
    "mse_rf = mean_squared_error(target_train, predictions)\n",
    "\n",
    "print(\"RMSE обучающей выборки:\", round(mse_rf**0.5, 2))"
   ]
  },
  {
   "cell_type": "markdown",
   "metadata": {},
   "source": [
    "**CatBoostRegressor**"
   ]
  },
  {
   "cell_type": "code",
   "execution_count": 38,
   "metadata": {},
   "outputs": [
    {
     "name": "stdout",
     "output_type": "stream",
     "text": [
      "Learning rate set to 0.050868\n",
      "0:\tlearn: 37.7772269\ttotal: 56.7ms\tremaining: 56.6s\n",
      "100:\tlearn: 21.3628893\ttotal: 593ms\tremaining: 5.28s\n",
      "200:\tlearn: 19.1008240\ttotal: 1.13s\tremaining: 4.48s\n",
      "300:\tlearn: 17.1441290\ttotal: 1.68s\tremaining: 3.9s\n",
      "400:\tlearn: 15.6315759\ttotal: 2.25s\tremaining: 3.36s\n",
      "500:\tlearn: 14.4721718\ttotal: 2.87s\tremaining: 2.86s\n",
      "600:\tlearn: 13.4640580\ttotal: 3.46s\tremaining: 2.3s\n",
      "700:\tlearn: 12.6206629\ttotal: 4.08s\tremaining: 1.74s\n",
      "800:\tlearn: 11.8584247\ttotal: 4.66s\tremaining: 1.16s\n",
      "900:\tlearn: 11.1605824\ttotal: 5.23s\tremaining: 574ms\n",
      "999:\tlearn: 10.4874083\ttotal: 5.78s\tremaining: 0us\n",
      "RMSE обучающей выборки: 10.49\n",
      "CPU times: user 5.8 s, sys: 129 ms, total: 5.93 s\n",
      "Wall time: 6.63 s\n"
     ]
    }
   ],
   "source": [
    "%%time\n",
    "\n",
    "\n",
    "catboost = CatBoostRegressor(loss_function=\"RMSE\", iterations=1000)\n",
    "\n",
    "catboost.fit(features_train, target_train, verbose=100)\n",
    "\n",
    "predictions = catboost.predict(features_train)\n",
    "\n",
    "\n",
    "mse_catboost = mean_squared_error(target_train, predictions)\n",
    "\n",
    "print(\"RMSE обучающей выборки:\", round(mse_catboost**0.5, 2))"
   ]
  },
  {
   "cell_type": "code",
   "execution_count": 39,
   "metadata": {},
   "outputs": [
    {
     "data": {
      "text/html": [
       "<div>\n",
       "<style scoped>\n",
       "    .dataframe tbody tr th:only-of-type {\n",
       "        vertical-align: middle;\n",
       "    }\n",
       "\n",
       "    .dataframe tbody tr th {\n",
       "        vertical-align: top;\n",
       "    }\n",
       "\n",
       "    .dataframe thead th {\n",
       "        text-align: right;\n",
       "    }\n",
       "</style>\n",
       "<table border=\"1\" class=\"dataframe\">\n",
       "  <thead>\n",
       "    <tr style=\"text-align: right;\">\n",
       "      <th></th>\n",
       "      <th>model</th>\n",
       "      <th>RMSE</th>\n",
       "    </tr>\n",
       "  </thead>\n",
       "  <tbody>\n",
       "    <tr>\n",
       "      <th>0</th>\n",
       "      <td>LinearRegression</td>\n",
       "      <td>25.51945</td>\n",
       "    </tr>\n",
       "    <tr>\n",
       "      <th>1</th>\n",
       "      <td>DecisionTreeRegressor</td>\n",
       "      <td>24.59000</td>\n",
       "    </tr>\n",
       "    <tr>\n",
       "      <th>2</th>\n",
       "      <td>RandomForestRegressor</td>\n",
       "      <td>8.46000</td>\n",
       "    </tr>\n",
       "    <tr>\n",
       "      <th>3</th>\n",
       "      <td>CatBoostRegressor</td>\n",
       "      <td>10.49000</td>\n",
       "    </tr>\n",
       "  </tbody>\n",
       "</table>\n",
       "</div>"
      ],
      "text/plain": [
       "                   model      RMSE\n",
       "0       LinearRegression  25.51945\n",
       "1  DecisionTreeRegressor  24.59000\n",
       "2  RandomForestRegressor   8.46000\n",
       "3      CatBoostRegressor  10.49000"
      ]
     },
     "execution_count": 39,
     "metadata": {},
     "output_type": "execute_result"
    }
   ],
   "source": [
    "model= pd.Series(['LinearRegression', 'DecisionTreeRegressor', 'RandomForestRegressor', 'CatBoostRegressor'])\n",
    "RMSE = pd.Series([mse_lr**0.5, round(mse_dtr**0.5, 2), round(mse_rf**0.5, 2), round(mse_catboost**0.5, 2)])\n",
    "\n",
    "\n",
    "result = pd.DataFrame({'model':model, \"RMSE\":RMSE})\n",
    "result"
   ]
  },
  {
   "cell_type": "markdown",
   "metadata": {},
   "source": [
    "## Тестирование"
   ]
  },
  {
   "cell_type": "code",
   "execution_count": 40,
   "metadata": {},
   "outputs": [
    {
     "name": "stdout",
     "output_type": "stream",
     "text": [
      "RMSE тестовой выборки: 44.2801684858816\n",
      "CPU times: user 43.6 ms, sys: 80 ms, total: 124 ms\n",
      "Wall time: 90.2 ms\n"
     ]
    }
   ],
   "source": [
    "%%time\n",
    "\n",
    "lr_model = LinearRegression(copy_X = True, fit_intercept = False, normalize = True)\n",
    "\n",
    "lr_model.fit(features_train, target_train)\n",
    "\n",
    "pred_test = lr_model.predict(features_test)\n",
    "\n",
    "mse_lr1 = mean_squared_error(target_test, pred_test)\n",
    "\n",
    "\n",
    "print(\"RMSE тестовой выборки:\", mse_lr1**0.5)"
   ]
  },
  {
   "cell_type": "code",
   "execution_count": 41,
   "metadata": {},
   "outputs": [
    {
     "name": "stdout",
     "output_type": "stream",
     "text": [
      "RMSE тестовой выборки 62.49\n",
      "CPU times: user 39 ms, sys: 31.9 ms, total: 70.9 ms\n",
      "Wall time: 98.6 ms\n"
     ]
    }
   ],
   "source": [
    "%%time \n",
    "\n",
    "DTR = DecisionTreeRegressor(random_state=12345,\n",
    "                            max_depth=3)\n",
    "\n",
    "\n",
    "DTR.fit(features_train, target_train)\n",
    "\n",
    "predictions = DTR.predict(features_test)\n",
    "\n",
    "mse_dtr1 = mean_squared_error(target_test, predictions)\n",
    "print(\"RMSE тестовой выборки\", round(mse_dtr1**0.5, 2))"
   ]
  },
  {
   "cell_type": "code",
   "execution_count": 46,
   "metadata": {},
   "outputs": [
    {
     "name": "stdout",
     "output_type": "stream",
     "text": [
      "RMSE тестовой выборки: 41.76\n",
      "CPU times: user 3.11 s, sys: 0 ns, total: 3.11 s\n",
      "Wall time: 3.1 s\n"
     ]
    }
   ],
   "source": [
    "%%time\n",
    "\n",
    "model_rf = RandomForestRegressor(random_state=12345,\n",
    "                                n_estimators=71,\n",
    "                                max_depth=13)\n",
    "\n",
    "\n",
    "model_rf.fit(features_train, target_train)\n",
    "\n",
    "predictions = model_rf.predict(features_test)\n",
    "\n",
    "mse_rf1 = mean_squared_error(target_test, predictions)\n",
    "\n",
    "print(\"RMSE тестовой выборки:\", round(mse_rf1**0.5, 2))"
   ]
  },
  {
   "cell_type": "code",
   "execution_count": 43,
   "metadata": {},
   "outputs": [
    {
     "name": "stdout",
     "output_type": "stream",
     "text": [
      "Learning rate set to 0.050868\n",
      "0:\tlearn: 37.7772269\ttotal: 6.41ms\tremaining: 6.41s\n",
      "100:\tlearn: 21.3628893\ttotal: 650ms\tremaining: 5.78s\n",
      "200:\tlearn: 19.1008240\ttotal: 1.23s\tremaining: 4.89s\n",
      "300:\tlearn: 17.1441290\ttotal: 1.83s\tremaining: 4.24s\n",
      "400:\tlearn: 15.6315759\ttotal: 2.35s\tremaining: 3.52s\n",
      "500:\tlearn: 14.4721718\ttotal: 2.92s\tremaining: 2.9s\n",
      "600:\tlearn: 13.4640580\ttotal: 3.44s\tremaining: 2.29s\n",
      "700:\tlearn: 12.6206629\ttotal: 4s\tremaining: 1.71s\n",
      "800:\tlearn: 11.8584247\ttotal: 4.54s\tremaining: 1.13s\n",
      "900:\tlearn: 11.1605824\ttotal: 5.07s\tremaining: 557ms\n",
      "999:\tlearn: 10.4874083\ttotal: 5.66s\tremaining: 0us\n",
      "RMSE тестовой выборки: 39.97\n"
     ]
    },
    {
     "data": {
      "image/png": "[encoded data removed]",
      "text/plain": [
       "<Figure size 1440x720 with 1 Axes>"
      ]
     },
     "metadata": {
      "needs_background": "light"
     },
     "output_type": "display_data"
    },
    {
     "name": "stdout",
     "output_type": "stream",
     "text": [
      "CPU times: user 6.1 s, sys: 153 ms, total: 6.26 s\n",
      "Wall time: 6.91 s\n"
     ]
    }
   ],
   "source": [
    "%%time\n",
    "\n",
    "\n",
    "catboost = CatBoostRegressor(loss_function=\"RMSE\", iterations=1000)\n",
    "\n",
    "catboost.fit(features_train, target_train, verbose=100)\n",
    "\n",
    "predictions1 = catboost.predict(features_test)\n",
    "\n",
    "\n",
    "mse_catboost1 = mean_squared_error(target_test, predictions1)\n",
    "\n",
    "print(\"RMSE тестовой выборки:\", round(mse_catboost1**0.5, 2))\n",
    "\n",
    "\n",
    "df = df.resample('1H').sum()\n",
    "\n",
    "plt.figure(figsize=(20, 10))\n",
    "plt.plot(target_test.index, \n",
    "         target_test, \n",
    "         'b-', \n",
    "         target_test.index, \n",
    "         predictions1,\n",
    "         'r-')\n",
    "plt.title('Таргет и предсказание на тестовой выборке')\n",
    "plt.show()"
   ]
  },
  {
   "cell_type": "code",
   "execution_count": 44,
   "metadata": {},
   "outputs": [
    {
     "data": {
      "text/html": [
       "<div>\n",
       "<style scoped>\n",
       "    .dataframe tbody tr th:only-of-type {\n",
       "        vertical-align: middle;\n",
       "    }\n",
       "\n",
       "    .dataframe tbody tr th {\n",
       "        vertical-align: top;\n",
       "    }\n",
       "\n",
       "    .dataframe thead th {\n",
       "        text-align: right;\n",
       "    }\n",
       "</style>\n",
       "<table border=\"1\" class=\"dataframe\">\n",
       "  <thead>\n",
       "    <tr style=\"text-align: right;\">\n",
       "      <th></th>\n",
       "      <th>model</th>\n",
       "      <th>RMSE</th>\n",
       "    </tr>\n",
       "  </thead>\n",
       "  <tbody>\n",
       "    <tr>\n",
       "      <th>0</th>\n",
       "      <td>LinearRegression</td>\n",
       "      <td>44.280168</td>\n",
       "    </tr>\n",
       "    <tr>\n",
       "      <th>1</th>\n",
       "      <td>DecisionTreeRegressor</td>\n",
       "      <td>62.490000</td>\n",
       "    </tr>\n",
       "    <tr>\n",
       "      <th>2</th>\n",
       "      <td>RandomForestRegressor</td>\n",
       "      <td>41.800000</td>\n",
       "    </tr>\n",
       "    <tr>\n",
       "      <th>3</th>\n",
       "      <td>CatBoostRegressor</td>\n",
       "      <td>39.970000</td>\n",
       "    </tr>\n",
       "  </tbody>\n",
       "</table>\n",
       "</div>"
      ],
      "text/plain": [
       "                   model       RMSE\n",
       "0       LinearRegression  44.280168\n",
       "1  DecisionTreeRegressor  62.490000\n",
       "2  RandomForestRegressor  41.800000\n",
       "3      CatBoostRegressor  39.970000"
      ]
     },
     "execution_count": 44,
     "metadata": {},
     "output_type": "execute_result"
    }
   ],
   "source": [
    "model= pd.Series(['LinearRegression', 'DecisionTreeRegressor', 'RandomForestRegressor', 'CatBoostRegressor'])\n",
    "RMSE = pd.Series([mse_lr1**0.5, round(mse_dtr1**0.5, 2), round(mse_rf1**0.5, 2), round(mse_catboost1**0.5, 2)])\n",
    "\n",
    "\n",
    "result = pd.DataFrame({'model':model, \"RMSE\":RMSE})\n",
    "result"
   ]
  },
  {
   "cell_type": "markdown",
   "metadata": {},
   "source": [
    "## Вывод:"
   ]
  },
  {
   "cell_type": "markdown",
   "metadata": {},
   "source": [
    "Мы получили датасет исторических данные о заказах такси в аэропортах. \n",
    "Выявили, количество заказов такси имеет тенденцию к еженедельной и каждодневной повторяемости к предыдущему периоду(сезонность). Мы провели анализ и подготовили данные для моделей. Подобрали лучшие параметры и обучили модели:\n",
    "- LinearRegression\n",
    "- DecisionTreeRegressor\n",
    "- RandomForestRegressor\n",
    "- CatBoostRegressor <br>\n",
    "\n",
    "Путем проверки обученных моделей на тестовых выборках, пришли к выводу, что модель CatBoostRegressor дает лучшие показатели RMSE 39.9."
   ]
  }
 ],
 "metadata": {
  "ExecuteTimeLog": [
   {
    "duration": 1424,
    "start_time": "2023-03-10T14:10:59.777Z"
   },
   {
    "duration": 47,
    "start_time": "2023-03-10T14:11:01.202Z"
   },
   {
    "duration": 10,
    "start_time": "2023-03-10T14:11:01.250Z"
   },
   {
    "duration": 32,
    "start_time": "2023-03-10T14:11:01.261Z"
   },
   {
    "duration": 22,
    "start_time": "2023-03-10T14:11:01.295Z"
   },
   {
    "duration": 21,
    "start_time": "2023-03-10T14:11:01.319Z"
   },
   {
    "duration": 44,
    "start_time": "2023-03-10T14:11:01.341Z"
   },
   {
    "duration": 34,
    "start_time": "2023-03-10T14:11:01.386Z"
   },
   {
    "duration": 23,
    "start_time": "2023-03-10T14:11:01.421Z"
   },
   {
    "duration": 294,
    "start_time": "2023-03-10T14:11:01.445Z"
   },
   {
    "duration": 358,
    "start_time": "2023-03-10T14:11:01.741Z"
   },
   {
    "duration": 3,
    "start_time": "2023-03-10T14:11:02.101Z"
   },
   {
    "duration": 12,
    "start_time": "2023-03-10T14:11:02.105Z"
   },
   {
    "duration": 16,
    "start_time": "2023-03-10T14:11:02.119Z"
   },
   {
    "duration": 526,
    "start_time": "2023-03-10T14:11:02.137Z"
   },
   {
    "duration": 3,
    "start_time": "2023-03-10T14:11:02.665Z"
   },
   {
    "duration": 14,
    "start_time": "2023-03-10T14:11:02.669Z"
   },
   {
    "duration": 168,
    "start_time": "2023-03-10T14:11:02.685Z"
   },
   {
    "duration": 3,
    "start_time": "2023-03-10T14:11:02.855Z"
   },
   {
    "duration": 5,
    "start_time": "2023-03-10T14:11:02.860Z"
   },
   {
    "duration": 25,
    "start_time": "2023-03-10T14:11:02.867Z"
   },
   {
    "duration": 5,
    "start_time": "2023-03-10T14:11:02.894Z"
   },
   {
    "duration": 8,
    "start_time": "2023-03-10T14:11:02.901Z"
   },
   {
    "duration": 23,
    "start_time": "2023-03-10T14:11:02.910Z"
   },
   {
    "duration": 5,
    "start_time": "2023-03-10T14:11:02.935Z"
   },
   {
    "duration": 33,
    "start_time": "2023-03-10T14:11:02.941Z"
   },
   {
    "duration": 6,
    "start_time": "2023-03-10T14:11:02.975Z"
   },
   {
    "duration": 6,
    "start_time": "2023-03-10T14:11:02.982Z"
   },
   {
    "duration": 3549,
    "start_time": "2023-03-10T14:11:02.989Z"
   },
   {
    "duration": 195,
    "start_time": "2023-03-10T14:11:06.540Z"
   },
   {
    "duration": 46903,
    "start_time": "2023-03-10T14:11:06.738Z"
   },
   {
    "duration": 22,
    "start_time": "2023-03-10T14:11:53.643Z"
   },
   {
    "duration": 679091,
    "start_time": "2023-03-10T14:11:53.667Z"
   },
   {
    "duration": 3275,
    "start_time": "2023-03-10T14:23:12.760Z"
   },
   {
    "duration": 6139,
    "start_time": "2023-03-10T14:23:16.036Z"
   },
   {
    "duration": 9,
    "start_time": "2023-03-10T14:23:22.177Z"
   },
   {
    "duration": 145,
    "start_time": "2023-03-10T14:23:22.188Z"
   },
   {
    "duration": 30,
    "start_time": "2023-03-10T14:23:22.336Z"
   },
   {
    "duration": 3965,
    "start_time": "2023-03-10T14:23:22.368Z"
   },
   {
    "duration": 6295,
    "start_time": "2023-03-10T14:23:26.335Z"
   },
   {
    "duration": 9,
    "start_time": "2023-03-10T14:23:32.633Z"
   },
   {
    "duration": 2496,
    "start_time": "2023-03-11T18:23:14.438Z"
   },
   {
    "duration": 117,
    "start_time": "2023-03-11T18:23:16.937Z"
   },
   {
    "duration": 17,
    "start_time": "2023-03-11T18:23:17.056Z"
   },
   {
    "duration": 21,
    "start_time": "2023-03-11T18:23:17.076Z"
   },
   {
    "duration": 4,
    "start_time": "2023-03-11T18:23:17.098Z"
   },
   {
    "duration": 11,
    "start_time": "2023-03-11T18:23:17.104Z"
   },
   {
    "duration": 4,
    "start_time": "2023-03-11T18:23:17.117Z"
   },
   {
    "duration": 47,
    "start_time": "2023-03-11T18:23:17.123Z"
   },
   {
    "duration": 16,
    "start_time": "2023-03-11T18:23:17.173Z"
   },
   {
    "duration": 367,
    "start_time": "2023-03-11T18:23:17.192Z"
   },
   {
    "duration": 79,
    "start_time": "2023-03-11T18:23:17.561Z"
   },
   {
    "duration": 0,
    "start_time": "2023-03-11T18:23:17.643Z"
   },
   {
    "duration": 0,
    "start_time": "2023-03-11T18:23:17.644Z"
   },
   {
    "duration": 0,
    "start_time": "2023-03-11T18:23:17.645Z"
   },
   {
    "duration": 0,
    "start_time": "2023-03-11T18:23:17.647Z"
   },
   {
    "duration": 0,
    "start_time": "2023-03-11T18:23:17.648Z"
   },
   {
    "duration": 0,
    "start_time": "2023-03-11T18:23:17.650Z"
   },
   {
    "duration": 0,
    "start_time": "2023-03-11T18:23:17.651Z"
   },
   {
    "duration": 0,
    "start_time": "2023-03-11T18:23:17.653Z"
   },
   {
    "duration": 0,
    "start_time": "2023-03-11T18:23:17.654Z"
   },
   {
    "duration": 0,
    "start_time": "2023-03-11T18:23:17.655Z"
   },
   {
    "duration": 0,
    "start_time": "2023-03-11T18:23:17.657Z"
   },
   {
    "duration": 0,
    "start_time": "2023-03-11T18:23:17.658Z"
   },
   {
    "duration": 0,
    "start_time": "2023-03-11T18:23:17.659Z"
   },
   {
    "duration": 0,
    "start_time": "2023-03-11T18:23:17.660Z"
   },
   {
    "duration": 0,
    "start_time": "2023-03-11T18:23:17.661Z"
   },
   {
    "duration": 0,
    "start_time": "2023-03-11T18:23:17.662Z"
   },
   {
    "duration": 0,
    "start_time": "2023-03-11T18:23:17.664Z"
   },
   {
    "duration": 1,
    "start_time": "2023-03-11T18:23:17.671Z"
   },
   {
    "duration": 0,
    "start_time": "2023-03-11T18:23:17.673Z"
   },
   {
    "duration": 0,
    "start_time": "2023-03-11T18:23:17.675Z"
   },
   {
    "duration": 0,
    "start_time": "2023-03-11T18:23:17.676Z"
   },
   {
    "duration": 0,
    "start_time": "2023-03-11T18:23:17.678Z"
   },
   {
    "duration": 0,
    "start_time": "2023-03-11T18:23:17.679Z"
   },
   {
    "duration": 0,
    "start_time": "2023-03-11T18:23:17.680Z"
   },
   {
    "duration": 0,
    "start_time": "2023-03-11T18:23:17.680Z"
   },
   {
    "duration": 0,
    "start_time": "2023-03-11T18:23:17.682Z"
   },
   {
    "duration": 0,
    "start_time": "2023-03-11T18:23:17.684Z"
   },
   {
    "duration": 0,
    "start_time": "2023-03-11T18:23:17.685Z"
   },
   {
    "duration": 0,
    "start_time": "2023-03-11T18:23:17.687Z"
   },
   {
    "duration": 0,
    "start_time": "2023-03-11T18:23:17.688Z"
   },
   {
    "duration": 0,
    "start_time": "2023-03-11T18:23:17.690Z"
   },
   {
    "duration": 148,
    "start_time": "2023-03-11T18:24:15.763Z"
   },
   {
    "duration": 2722,
    "start_time": "2023-03-11T18:44:05.950Z"
   },
   {
    "duration": 1550,
    "start_time": "2023-03-11T18:44:18.299Z"
   },
   {
    "duration": 51,
    "start_time": "2023-03-11T18:44:19.851Z"
   },
   {
    "duration": 12,
    "start_time": "2023-03-11T18:44:19.904Z"
   },
   {
    "duration": 19,
    "start_time": "2023-03-11T18:44:19.917Z"
   },
   {
    "duration": 5,
    "start_time": "2023-03-11T18:44:19.940Z"
   },
   {
    "duration": 26,
    "start_time": "2023-03-11T18:44:19.947Z"
   },
   {
    "duration": 16,
    "start_time": "2023-03-11T18:44:19.976Z"
   },
   {
    "duration": 27,
    "start_time": "2023-03-11T18:44:19.994Z"
   },
   {
    "duration": 30,
    "start_time": "2023-03-11T18:44:20.024Z"
   },
   {
    "duration": 323,
    "start_time": "2023-03-11T18:44:20.057Z"
   },
   {
    "duration": 1989,
    "start_time": "2023-03-11T18:44:20.382Z"
   },
   {
    "duration": 530,
    "start_time": "2023-03-11T18:44:22.374Z"
   },
   {
    "duration": 3,
    "start_time": "2023-03-11T18:44:22.906Z"
   },
   {
    "duration": 5,
    "start_time": "2023-03-11T18:44:22.913Z"
   },
   {
    "duration": 10,
    "start_time": "2023-03-11T18:44:22.920Z"
   },
   {
    "duration": 672,
    "start_time": "2023-03-11T18:44:22.933Z"
   },
   {
    "duration": 4,
    "start_time": "2023-03-11T18:44:23.607Z"
   },
   {
    "duration": 11,
    "start_time": "2023-03-11T18:44:23.613Z"
   },
   {
    "duration": 200,
    "start_time": "2023-03-11T18:44:23.625Z"
   },
   {
    "duration": 4,
    "start_time": "2023-03-11T18:44:23.827Z"
   },
   {
    "duration": 11,
    "start_time": "2023-03-11T18:44:23.833Z"
   },
   {
    "duration": 37,
    "start_time": "2023-03-11T18:44:23.846Z"
   },
   {
    "duration": 6,
    "start_time": "2023-03-11T18:44:23.885Z"
   },
   {
    "duration": 12,
    "start_time": "2023-03-11T18:44:23.893Z"
   },
   {
    "duration": 6,
    "start_time": "2023-03-11T18:44:23.907Z"
   },
   {
    "duration": 10,
    "start_time": "2023-03-11T18:44:23.915Z"
   },
   {
    "duration": 77,
    "start_time": "2023-03-11T18:44:23.928Z"
   },
   {
    "duration": 7,
    "start_time": "2023-03-11T18:44:24.007Z"
   },
   {
    "duration": 13,
    "start_time": "2023-03-11T18:44:24.016Z"
   },
   {
    "duration": 7558,
    "start_time": "2023-03-11T18:44:24.030Z"
   },
   {
    "duration": 194,
    "start_time": "2023-03-11T18:44:31.594Z"
   },
   {
    "duration": 54324,
    "start_time": "2023-03-11T18:44:31.866Z"
   },
   {
    "duration": 27,
    "start_time": "2023-03-11T18:45:26.192Z"
   },
   {
    "duration": 745384,
    "start_time": "2023-03-11T18:45:26.222Z"
   },
   {
    "duration": 3558,
    "start_time": "2023-03-11T18:57:51.609Z"
   },
   {
    "duration": 7268,
    "start_time": "2023-03-11T18:57:55.169Z"
   },
   {
    "duration": 10,
    "start_time": "2023-03-11T18:58:02.439Z"
   },
   {
    "duration": 113,
    "start_time": "2023-03-11T18:58:02.451Z"
   },
   {
    "duration": 117,
    "start_time": "2023-03-11T18:58:02.578Z"
   },
   {
    "duration": 4197,
    "start_time": "2023-03-11T18:58:02.697Z"
   },
   {
    "duration": 7093,
    "start_time": "2023-03-11T18:58:06.899Z"
   },
   {
    "duration": 10,
    "start_time": "2023-03-11T18:58:13.994Z"
   },
   {
    "duration": 50,
    "start_time": "2023-03-11T19:20:22.771Z"
   },
   {
    "duration": 5004,
    "start_time": "2023-03-11T19:21:47.713Z"
   },
   {
    "duration": 1493,
    "start_time": "2023-03-11T19:23:34.629Z"
   },
   {
    "duration": 1731,
    "start_time": "2023-03-11T19:23:54.192Z"
   },
   {
    "duration": 64,
    "start_time": "2023-03-11T19:23:55.926Z"
   },
   {
    "duration": 15,
    "start_time": "2023-03-11T19:23:55.992Z"
   },
   {
    "duration": 19,
    "start_time": "2023-03-11T19:23:56.010Z"
   },
   {
    "duration": 5,
    "start_time": "2023-03-11T19:23:56.032Z"
   },
   {
    "duration": 30,
    "start_time": "2023-03-11T19:23:56.038Z"
   },
   {
    "duration": 11,
    "start_time": "2023-03-11T19:23:56.072Z"
   },
   {
    "duration": 14,
    "start_time": "2023-03-11T19:23:56.085Z"
   },
   {
    "duration": 19,
    "start_time": "2023-03-11T19:23:56.101Z"
   },
   {
    "duration": 362,
    "start_time": "2023-03-11T19:23:56.124Z"
   },
   {
    "duration": 4379,
    "start_time": "2023-03-11T19:23:56.488Z"
   },
   {
    "duration": 242,
    "start_time": "2023-03-11T19:24:00.869Z"
   },
   {
    "duration": 0,
    "start_time": "2023-03-11T19:24:01.115Z"
   },
   {
    "duration": 0,
    "start_time": "2023-03-11T19:24:01.117Z"
   },
   {
    "duration": 0,
    "start_time": "2023-03-11T19:24:01.118Z"
   },
   {
    "duration": 0,
    "start_time": "2023-03-11T19:24:01.120Z"
   },
   {
    "duration": 0,
    "start_time": "2023-03-11T19:24:01.122Z"
   },
   {
    "duration": 0,
    "start_time": "2023-03-11T19:24:01.123Z"
   },
   {
    "duration": 0,
    "start_time": "2023-03-11T19:24:01.125Z"
   },
   {
    "duration": 0,
    "start_time": "2023-03-11T19:24:01.126Z"
   },
   {
    "duration": 0,
    "start_time": "2023-03-11T19:24:01.128Z"
   },
   {
    "duration": 0,
    "start_time": "2023-03-11T19:24:01.129Z"
   },
   {
    "duration": 0,
    "start_time": "2023-03-11T19:24:01.131Z"
   },
   {
    "duration": 0,
    "start_time": "2023-03-11T19:24:01.132Z"
   },
   {
    "duration": 0,
    "start_time": "2023-03-11T19:24:01.134Z"
   },
   {
    "duration": 0,
    "start_time": "2023-03-11T19:24:01.168Z"
   },
   {
    "duration": 0,
    "start_time": "2023-03-11T19:24:01.169Z"
   },
   {
    "duration": 0,
    "start_time": "2023-03-11T19:24:01.170Z"
   },
   {
    "duration": 0,
    "start_time": "2023-03-11T19:24:01.171Z"
   },
   {
    "duration": 0,
    "start_time": "2023-03-11T19:24:01.172Z"
   },
   {
    "duration": 0,
    "start_time": "2023-03-11T19:24:01.173Z"
   },
   {
    "duration": 0,
    "start_time": "2023-03-11T19:24:01.174Z"
   },
   {
    "duration": 0,
    "start_time": "2023-03-11T19:24:01.175Z"
   },
   {
    "duration": 0,
    "start_time": "2023-03-11T19:24:01.176Z"
   },
   {
    "duration": 0,
    "start_time": "2023-03-11T19:24:01.177Z"
   },
   {
    "duration": 0,
    "start_time": "2023-03-11T19:24:01.179Z"
   },
   {
    "duration": 0,
    "start_time": "2023-03-11T19:24:01.180Z"
   },
   {
    "duration": 0,
    "start_time": "2023-03-11T19:24:01.181Z"
   },
   {
    "duration": 0,
    "start_time": "2023-03-11T19:24:01.182Z"
   },
   {
    "duration": 0,
    "start_time": "2023-03-11T19:24:01.183Z"
   },
   {
    "duration": 0,
    "start_time": "2023-03-11T19:24:01.184Z"
   },
   {
    "duration": 0,
    "start_time": "2023-03-11T19:24:01.187Z"
   },
   {
    "duration": 1283,
    "start_time": "2023-03-11T19:24:24.041Z"
   },
   {
    "duration": 1709,
    "start_time": "2023-03-11T19:26:41.899Z"
   },
   {
    "duration": 50,
    "start_time": "2023-03-11T19:26:43.611Z"
   },
   {
    "duration": 23,
    "start_time": "2023-03-11T19:26:43.663Z"
   },
   {
    "duration": 16,
    "start_time": "2023-03-11T19:26:43.688Z"
   },
   {
    "duration": 4,
    "start_time": "2023-03-11T19:26:43.706Z"
   },
   {
    "duration": 20,
    "start_time": "2023-03-11T19:26:43.712Z"
   },
   {
    "duration": 4,
    "start_time": "2023-03-11T19:26:43.733Z"
   },
   {
    "duration": 11,
    "start_time": "2023-03-11T19:26:43.739Z"
   },
   {
    "duration": 20,
    "start_time": "2023-03-11T19:26:43.764Z"
   },
   {
    "duration": 339,
    "start_time": "2023-03-11T19:26:43.787Z"
   },
   {
    "duration": 4267,
    "start_time": "2023-03-11T19:26:44.128Z"
   },
   {
    "duration": 1581,
    "start_time": "2023-03-11T19:26:48.473Z"
   },
   {
    "duration": 0,
    "start_time": "2023-03-11T19:26:50.057Z"
   },
   {
    "duration": 0,
    "start_time": "2023-03-11T19:26:50.059Z"
   },
   {
    "duration": 0,
    "start_time": "2023-03-11T19:26:50.060Z"
   },
   {
    "duration": 0,
    "start_time": "2023-03-11T19:26:50.063Z"
   },
   {
    "duration": 0,
    "start_time": "2023-03-11T19:26:50.065Z"
   },
   {
    "duration": 0,
    "start_time": "2023-03-11T19:26:50.066Z"
   },
   {
    "duration": 0,
    "start_time": "2023-03-11T19:26:50.067Z"
   },
   {
    "duration": 0,
    "start_time": "2023-03-11T19:26:50.069Z"
   },
   {
    "duration": 0,
    "start_time": "2023-03-11T19:26:50.070Z"
   },
   {
    "duration": 0,
    "start_time": "2023-03-11T19:26:50.072Z"
   },
   {
    "duration": 0,
    "start_time": "2023-03-11T19:26:50.073Z"
   },
   {
    "duration": 1,
    "start_time": "2023-03-11T19:26:50.074Z"
   },
   {
    "duration": 0,
    "start_time": "2023-03-11T19:26:50.076Z"
   },
   {
    "duration": 0,
    "start_time": "2023-03-11T19:26:50.077Z"
   },
   {
    "duration": 0,
    "start_time": "2023-03-11T19:26:50.079Z"
   },
   {
    "duration": 0,
    "start_time": "2023-03-11T19:26:50.080Z"
   },
   {
    "duration": 0,
    "start_time": "2023-03-11T19:26:50.081Z"
   },
   {
    "duration": 0,
    "start_time": "2023-03-11T19:26:50.083Z"
   },
   {
    "duration": 0,
    "start_time": "2023-03-11T19:26:50.084Z"
   },
   {
    "duration": 0,
    "start_time": "2023-03-11T19:26:50.085Z"
   },
   {
    "duration": 0,
    "start_time": "2023-03-11T19:26:50.087Z"
   },
   {
    "duration": 0,
    "start_time": "2023-03-11T19:26:50.088Z"
   },
   {
    "duration": 0,
    "start_time": "2023-03-11T19:26:50.090Z"
   },
   {
    "duration": 0,
    "start_time": "2023-03-11T19:26:50.091Z"
   },
   {
    "duration": 0,
    "start_time": "2023-03-11T19:26:50.093Z"
   },
   {
    "duration": 0,
    "start_time": "2023-03-11T19:26:50.094Z"
   },
   {
    "duration": 0,
    "start_time": "2023-03-11T19:26:50.095Z"
   },
   {
    "duration": 0,
    "start_time": "2023-03-11T19:26:50.097Z"
   },
   {
    "duration": 0,
    "start_time": "2023-03-11T19:26:50.098Z"
   },
   {
    "duration": 0,
    "start_time": "2023-03-11T19:26:50.100Z"
   },
   {
    "duration": 467,
    "start_time": "2023-03-11T19:32:04.293Z"
   },
   {
    "duration": 393,
    "start_time": "2023-03-11T19:32:42.195Z"
   },
   {
    "duration": 476,
    "start_time": "2023-03-11T19:32:52.737Z"
   },
   {
    "duration": 4,
    "start_time": "2023-03-11T19:41:54.584Z"
   },
   {
    "duration": 20,
    "start_time": "2023-03-11T19:41:54.870Z"
   },
   {
    "duration": 3,
    "start_time": "2023-03-11T19:53:19.786Z"
   },
   {
    "duration": 8,
    "start_time": "2023-03-11T19:53:20.528Z"
   },
   {
    "duration": 7,
    "start_time": "2023-03-11T19:53:32.173Z"
   },
   {
    "duration": 15,
    "start_time": "2023-03-11T19:53:32.662Z"
   },
   {
    "duration": 332,
    "start_time": "2023-03-11T19:54:26.314Z"
   },
   {
    "duration": 449,
    "start_time": "2023-03-11T19:55:44.184Z"
   },
   {
    "duration": 4,
    "start_time": "2023-03-11T19:55:46.922Z"
   },
   {
    "duration": 15,
    "start_time": "2023-03-11T19:55:47.678Z"
   },
   {
    "duration": 337,
    "start_time": "2023-03-11T19:55:48.491Z"
   },
   {
    "duration": 371,
    "start_time": "2023-03-11T19:58:36.962Z"
   },
   {
    "duration": 510,
    "start_time": "2023-03-11T19:58:51.146Z"
   },
   {
    "duration": 396,
    "start_time": "2023-03-11T19:59:00.026Z"
   },
   {
    "duration": 356,
    "start_time": "2023-03-11T19:59:12.572Z"
   },
   {
    "duration": 312,
    "start_time": "2023-03-11T19:59:16.030Z"
   },
   {
    "duration": 9,
    "start_time": "2023-03-11T20:02:48.439Z"
   },
   {
    "duration": 10,
    "start_time": "2023-03-11T20:03:06.738Z"
   },
   {
    "duration": 9,
    "start_time": "2023-03-11T20:03:23.622Z"
   },
   {
    "duration": 26,
    "start_time": "2023-03-11T20:05:14.327Z"
   },
   {
    "duration": 22,
    "start_time": "2023-03-11T20:05:48.892Z"
   },
   {
    "duration": 1716,
    "start_time": "2023-03-11T20:06:13.458Z"
   },
   {
    "duration": 53,
    "start_time": "2023-03-11T20:06:15.176Z"
   },
   {
    "duration": 15,
    "start_time": "2023-03-11T20:06:15.231Z"
   },
   {
    "duration": 21,
    "start_time": "2023-03-11T20:06:15.248Z"
   },
   {
    "duration": 6,
    "start_time": "2023-03-11T20:06:15.272Z"
   },
   {
    "duration": 14,
    "start_time": "2023-03-11T20:06:15.280Z"
   },
   {
    "duration": 6,
    "start_time": "2023-03-11T20:06:15.296Z"
   },
   {
    "duration": 15,
    "start_time": "2023-03-11T20:06:15.304Z"
   },
   {
    "duration": 14,
    "start_time": "2023-03-11T20:06:15.320Z"
   },
   {
    "duration": 409,
    "start_time": "2023-03-11T20:06:15.336Z"
   },
   {
    "duration": 28,
    "start_time": "2023-03-11T20:06:15.747Z"
   },
   {
    "duration": 4803,
    "start_time": "2023-03-11T20:06:15.777Z"
   },
   {
    "duration": 574,
    "start_time": "2023-03-11T20:06:20.582Z"
   },
   {
    "duration": 24,
    "start_time": "2023-03-11T20:06:21.160Z"
   },
   {
    "duration": 11,
    "start_time": "2023-03-11T20:06:21.186Z"
   },
   {
    "duration": 15,
    "start_time": "2023-03-11T20:06:21.199Z"
   },
   {
    "duration": 345,
    "start_time": "2023-03-11T20:06:21.216Z"
   },
   {
    "duration": 3,
    "start_time": "2023-03-11T20:06:21.565Z"
   },
   {
    "duration": 13,
    "start_time": "2023-03-11T20:06:21.570Z"
   },
   {
    "duration": 13,
    "start_time": "2023-03-11T20:06:21.585Z"
   },
   {
    "duration": 215,
    "start_time": "2023-03-11T20:06:21.600Z"
   },
   {
    "duration": 0,
    "start_time": "2023-03-11T20:06:21.818Z"
   },
   {
    "duration": 0,
    "start_time": "2023-03-11T20:06:21.820Z"
   },
   {
    "duration": 0,
    "start_time": "2023-03-11T20:06:21.821Z"
   },
   {
    "duration": 0,
    "start_time": "2023-03-11T20:06:21.823Z"
   },
   {
    "duration": 0,
    "start_time": "2023-03-11T20:06:21.824Z"
   },
   {
    "duration": 0,
    "start_time": "2023-03-11T20:06:21.826Z"
   },
   {
    "duration": 0,
    "start_time": "2023-03-11T20:06:21.827Z"
   },
   {
    "duration": 0,
    "start_time": "2023-03-11T20:06:21.828Z"
   },
   {
    "duration": 0,
    "start_time": "2023-03-11T20:06:21.829Z"
   },
   {
    "duration": 0,
    "start_time": "2023-03-11T20:06:21.830Z"
   },
   {
    "duration": 0,
    "start_time": "2023-03-11T20:06:21.831Z"
   },
   {
    "duration": 0,
    "start_time": "2023-03-11T20:06:21.833Z"
   },
   {
    "duration": 0,
    "start_time": "2023-03-11T20:06:21.834Z"
   },
   {
    "duration": 0,
    "start_time": "2023-03-11T20:06:21.864Z"
   },
   {
    "duration": 0,
    "start_time": "2023-03-11T20:06:21.866Z"
   },
   {
    "duration": 1,
    "start_time": "2023-03-11T20:06:21.867Z"
   },
   {
    "duration": 0,
    "start_time": "2023-03-11T20:06:21.869Z"
   },
   {
    "duration": 0,
    "start_time": "2023-03-11T20:06:21.871Z"
   },
   {
    "duration": 0,
    "start_time": "2023-03-11T20:06:21.873Z"
   },
   {
    "duration": 0,
    "start_time": "2023-03-11T20:06:21.875Z"
   },
   {
    "duration": 0,
    "start_time": "2023-03-11T20:06:21.876Z"
   },
   {
    "duration": 0,
    "start_time": "2023-03-11T20:06:21.878Z"
   },
   {
    "duration": 0,
    "start_time": "2023-03-11T20:06:21.879Z"
   },
   {
    "duration": 0,
    "start_time": "2023-03-11T20:06:21.881Z"
   },
   {
    "duration": 0,
    "start_time": "2023-03-11T20:06:21.882Z"
   },
   {
    "duration": 0,
    "start_time": "2023-03-11T20:06:21.884Z"
   },
   {
    "duration": 12,
    "start_time": "2023-03-11T20:08:48.432Z"
   },
   {
    "duration": 16,
    "start_time": "2023-03-11T20:09:49.359Z"
   },
   {
    "duration": 19,
    "start_time": "2023-03-11T20:10:54.988Z"
   },
   {
    "duration": 20,
    "start_time": "2023-03-11T20:11:45.028Z"
   },
   {
    "duration": 5,
    "start_time": "2023-03-11T20:14:59.552Z"
   },
   {
    "duration": 11,
    "start_time": "2023-03-11T20:15:16.082Z"
   },
   {
    "duration": 12,
    "start_time": "2023-03-11T20:15:30.049Z"
   },
   {
    "duration": 29,
    "start_time": "2023-03-11T20:16:08.402Z"
   },
   {
    "duration": 30,
    "start_time": "2023-03-11T20:16:50.978Z"
   },
   {
    "duration": 29,
    "start_time": "2023-03-11T20:17:56.913Z"
   },
   {
    "duration": 28,
    "start_time": "2023-03-11T20:18:37.234Z"
   },
   {
    "duration": 85,
    "start_time": "2023-03-11T20:19:36.037Z"
   },
   {
    "duration": 101,
    "start_time": "2023-03-11T20:19:48.580Z"
   },
   {
    "duration": 82,
    "start_time": "2023-03-11T20:19:56.507Z"
   },
   {
    "duration": 77,
    "start_time": "2023-03-11T20:20:10.484Z"
   },
   {
    "duration": 28,
    "start_time": "2023-03-11T20:20:14.979Z"
   },
   {
    "duration": 38,
    "start_time": "2023-03-11T20:20:44.700Z"
   },
   {
    "duration": 70,
    "start_time": "2023-03-11T20:21:23.810Z"
   },
   {
    "duration": 31,
    "start_time": "2023-03-11T20:21:40.868Z"
   },
   {
    "duration": 6,
    "start_time": "2023-03-11T20:22:00.436Z"
   },
   {
    "duration": 29,
    "start_time": "2023-03-11T20:22:11.365Z"
   },
   {
    "duration": 42,
    "start_time": "2023-03-11T20:22:25.235Z"
   },
   {
    "duration": 34,
    "start_time": "2023-03-11T20:22:43.435Z"
   },
   {
    "duration": 23,
    "start_time": "2023-03-11T20:29:55.016Z"
   },
   {
    "duration": 22,
    "start_time": "2023-03-11T20:37:48.384Z"
   },
   {
    "duration": 24,
    "start_time": "2023-03-11T20:38:05.055Z"
   },
   {
    "duration": 24,
    "start_time": "2023-03-11T20:38:18.472Z"
   },
   {
    "duration": 21,
    "start_time": "2023-03-11T20:39:04.390Z"
   },
   {
    "duration": 125,
    "start_time": "2023-03-11T20:40:13.129Z"
   },
   {
    "duration": 75,
    "start_time": "2023-03-11T20:40:20.652Z"
   },
   {
    "duration": 22,
    "start_time": "2023-03-11T20:41:02.274Z"
   },
   {
    "duration": 1573,
    "start_time": "2023-03-11T20:41:12.021Z"
   },
   {
    "duration": 52,
    "start_time": "2023-03-11T20:41:13.597Z"
   },
   {
    "duration": 12,
    "start_time": "2023-03-11T20:41:13.650Z"
   },
   {
    "duration": 21,
    "start_time": "2023-03-11T20:41:13.676Z"
   },
   {
    "duration": 8,
    "start_time": "2023-03-11T20:41:13.700Z"
   },
   {
    "duration": 17,
    "start_time": "2023-03-11T20:41:13.709Z"
   },
   {
    "duration": 4,
    "start_time": "2023-03-11T20:41:13.728Z"
   },
   {
    "duration": 12,
    "start_time": "2023-03-11T20:41:13.734Z"
   },
   {
    "duration": 22,
    "start_time": "2023-03-11T20:41:13.747Z"
   },
   {
    "duration": 352,
    "start_time": "2023-03-11T20:41:13.771Z"
   },
   {
    "duration": 549,
    "start_time": "2023-03-11T20:41:14.126Z"
   },
   {
    "duration": 30,
    "start_time": "2023-03-11T20:41:14.681Z"
   },
   {
    "duration": 37,
    "start_time": "2023-03-11T20:41:14.713Z"
   },
   {
    "duration": 14,
    "start_time": "2023-03-11T20:41:14.754Z"
   },
   {
    "duration": 38,
    "start_time": "2023-03-11T20:41:14.770Z"
   },
   {
    "duration": 12,
    "start_time": "2023-03-11T20:41:14.811Z"
   },
   {
    "duration": 183,
    "start_time": "2023-03-11T20:41:14.826Z"
   },
   {
    "duration": 0,
    "start_time": "2023-03-11T20:41:15.011Z"
   },
   {
    "duration": 0,
    "start_time": "2023-03-11T20:41:15.012Z"
   },
   {
    "duration": 0,
    "start_time": "2023-03-11T20:41:15.013Z"
   },
   {
    "duration": 0,
    "start_time": "2023-03-11T20:41:15.014Z"
   },
   {
    "duration": 0,
    "start_time": "2023-03-11T20:41:15.016Z"
   },
   {
    "duration": 0,
    "start_time": "2023-03-11T20:41:15.017Z"
   },
   {
    "duration": 0,
    "start_time": "2023-03-11T20:41:15.018Z"
   },
   {
    "duration": 0,
    "start_time": "2023-03-11T20:41:15.019Z"
   },
   {
    "duration": 0,
    "start_time": "2023-03-11T20:41:15.020Z"
   },
   {
    "duration": 0,
    "start_time": "2023-03-11T20:41:15.022Z"
   },
   {
    "duration": 0,
    "start_time": "2023-03-11T20:41:15.023Z"
   },
   {
    "duration": 0,
    "start_time": "2023-03-11T20:41:15.024Z"
   },
   {
    "duration": 0,
    "start_time": "2023-03-11T20:41:15.025Z"
   },
   {
    "duration": 0,
    "start_time": "2023-03-11T20:41:15.027Z"
   },
   {
    "duration": 0,
    "start_time": "2023-03-11T20:41:15.028Z"
   },
   {
    "duration": 1,
    "start_time": "2023-03-11T20:41:15.029Z"
   },
   {
    "duration": 0,
    "start_time": "2023-03-11T20:41:15.031Z"
   },
   {
    "duration": 0,
    "start_time": "2023-03-11T20:41:15.033Z"
   },
   {
    "duration": 0,
    "start_time": "2023-03-11T20:41:15.034Z"
   },
   {
    "duration": 0,
    "start_time": "2023-03-11T20:41:15.066Z"
   },
   {
    "duration": 0,
    "start_time": "2023-03-11T20:41:15.070Z"
   },
   {
    "duration": 0,
    "start_time": "2023-03-11T20:41:15.071Z"
   },
   {
    "duration": 0,
    "start_time": "2023-03-11T20:41:15.073Z"
   },
   {
    "duration": 0,
    "start_time": "2023-03-11T20:41:15.074Z"
   },
   {
    "duration": 0,
    "start_time": "2023-03-11T20:41:15.075Z"
   },
   {
    "duration": 0,
    "start_time": "2023-03-11T20:41:15.076Z"
   },
   {
    "duration": 13,
    "start_time": "2023-03-11T20:43:40.494Z"
   },
   {
    "duration": 17,
    "start_time": "2023-03-11T20:44:21.106Z"
   },
   {
    "duration": 1598,
    "start_time": "2023-03-11T20:45:51.921Z"
   },
   {
    "duration": 56,
    "start_time": "2023-03-11T20:45:53.521Z"
   },
   {
    "duration": 12,
    "start_time": "2023-03-11T20:45:53.579Z"
   },
   {
    "duration": 12,
    "start_time": "2023-03-11T20:45:53.594Z"
   },
   {
    "duration": 3,
    "start_time": "2023-03-11T20:45:53.608Z"
   },
   {
    "duration": 13,
    "start_time": "2023-03-11T20:45:53.613Z"
   },
   {
    "duration": 5,
    "start_time": "2023-03-11T20:45:53.628Z"
   },
   {
    "duration": 38,
    "start_time": "2023-03-11T20:45:53.635Z"
   },
   {
    "duration": 15,
    "start_time": "2023-03-11T20:45:53.676Z"
   },
   {
    "duration": 318,
    "start_time": "2023-03-11T20:45:53.694Z"
   },
   {
    "duration": 506,
    "start_time": "2023-03-11T20:45:54.014Z"
   },
   {
    "duration": 28,
    "start_time": "2023-03-11T20:45:54.522Z"
   },
   {
    "duration": 40,
    "start_time": "2023-03-11T20:45:54.553Z"
   },
   {
    "duration": 9,
    "start_time": "2023-03-11T20:45:54.595Z"
   },
   {
    "duration": 7,
    "start_time": "2023-03-11T20:45:54.607Z"
   },
   {
    "duration": 12,
    "start_time": "2023-03-11T20:45:54.618Z"
   },
   {
    "duration": 17,
    "start_time": "2023-03-11T20:45:54.632Z"
   },
   {
    "duration": 654,
    "start_time": "2023-03-11T20:45:54.651Z"
   },
   {
    "duration": 3,
    "start_time": "2023-03-11T20:45:55.307Z"
   },
   {
    "duration": 147,
    "start_time": "2023-03-11T20:45:55.312Z"
   },
   {
    "duration": 0,
    "start_time": "2023-03-11T20:45:55.462Z"
   },
   {
    "duration": 0,
    "start_time": "2023-03-11T20:45:55.464Z"
   },
   {
    "duration": 0,
    "start_time": "2023-03-11T20:45:55.464Z"
   },
   {
    "duration": 0,
    "start_time": "2023-03-11T20:45:55.465Z"
   },
   {
    "duration": 0,
    "start_time": "2023-03-11T20:45:55.466Z"
   },
   {
    "duration": 0,
    "start_time": "2023-03-11T20:45:55.468Z"
   },
   {
    "duration": 0,
    "start_time": "2023-03-11T20:45:55.468Z"
   },
   {
    "duration": 0,
    "start_time": "2023-03-11T20:45:55.470Z"
   },
   {
    "duration": 0,
    "start_time": "2023-03-11T20:45:55.472Z"
   },
   {
    "duration": 0,
    "start_time": "2023-03-11T20:45:55.473Z"
   },
   {
    "duration": 0,
    "start_time": "2023-03-11T20:45:55.474Z"
   },
   {
    "duration": 0,
    "start_time": "2023-03-11T20:45:55.475Z"
   },
   {
    "duration": 0,
    "start_time": "2023-03-11T20:45:55.483Z"
   },
   {
    "duration": 0,
    "start_time": "2023-03-11T20:45:55.484Z"
   },
   {
    "duration": 0,
    "start_time": "2023-03-11T20:45:55.486Z"
   },
   {
    "duration": 0,
    "start_time": "2023-03-11T20:45:55.487Z"
   },
   {
    "duration": 0,
    "start_time": "2023-03-11T20:45:55.488Z"
   },
   {
    "duration": 0,
    "start_time": "2023-03-11T20:45:55.489Z"
   },
   {
    "duration": 0,
    "start_time": "2023-03-11T20:45:55.491Z"
   },
   {
    "duration": 0,
    "start_time": "2023-03-11T20:45:55.492Z"
   },
   {
    "duration": 0,
    "start_time": "2023-03-11T20:45:55.493Z"
   },
   {
    "duration": 0,
    "start_time": "2023-03-11T20:45:55.494Z"
   },
   {
    "duration": 0,
    "start_time": "2023-03-11T20:45:55.495Z"
   },
   {
    "duration": 0,
    "start_time": "2023-03-11T20:45:55.497Z"
   },
   {
    "duration": 3,
    "start_time": "2023-03-11T20:47:26.423Z"
   },
   {
    "duration": 14,
    "start_time": "2023-03-11T20:47:26.737Z"
   },
   {
    "duration": 189,
    "start_time": "2023-03-11T20:47:28.805Z"
   },
   {
    "duration": 112,
    "start_time": "2023-03-11T20:49:31.687Z"
   },
   {
    "duration": 1663,
    "start_time": "2023-03-11T21:05:03.091Z"
   },
   {
    "duration": 52,
    "start_time": "2023-03-11T21:05:04.756Z"
   },
   {
    "duration": 11,
    "start_time": "2023-03-11T21:05:04.810Z"
   },
   {
    "duration": 15,
    "start_time": "2023-03-11T21:05:04.823Z"
   },
   {
    "duration": 3,
    "start_time": "2023-03-11T21:05:04.840Z"
   },
   {
    "duration": 19,
    "start_time": "2023-03-11T21:05:04.845Z"
   },
   {
    "duration": 4,
    "start_time": "2023-03-11T21:05:04.866Z"
   },
   {
    "duration": 16,
    "start_time": "2023-03-11T21:05:04.871Z"
   },
   {
    "duration": 13,
    "start_time": "2023-03-11T21:05:04.888Z"
   },
   {
    "duration": 329,
    "start_time": "2023-03-11T21:05:04.903Z"
   },
   {
    "duration": 454,
    "start_time": "2023-03-11T21:05:05.234Z"
   },
   {
    "duration": 25,
    "start_time": "2023-03-11T21:05:05.690Z"
   },
   {
    "duration": 33,
    "start_time": "2023-03-11T21:05:05.717Z"
   },
   {
    "duration": 4,
    "start_time": "2023-03-11T21:05:05.763Z"
   },
   {
    "duration": 13,
    "start_time": "2023-03-11T21:05:05.770Z"
   },
   {
    "duration": 12,
    "start_time": "2023-03-11T21:05:05.785Z"
   },
   {
    "duration": 18,
    "start_time": "2023-03-11T21:05:05.799Z"
   },
   {
    "duration": 634,
    "start_time": "2023-03-11T21:05:05.820Z"
   },
   {
    "duration": 10,
    "start_time": "2023-03-11T21:05:06.456Z"
   },
   {
    "duration": 32,
    "start_time": "2023-03-11T21:05:06.468Z"
   },
   {
    "duration": 237,
    "start_time": "2023-03-11T21:05:06.503Z"
   },
   {
    "duration": 5,
    "start_time": "2023-03-11T21:05:06.743Z"
   },
   {
    "duration": 35,
    "start_time": "2023-03-11T21:05:06.750Z"
   },
   {
    "duration": 23,
    "start_time": "2023-03-11T21:05:06.788Z"
   },
   {
    "duration": 7,
    "start_time": "2023-03-11T21:05:06.813Z"
   },
   {
    "duration": 10,
    "start_time": "2023-03-11T21:05:06.822Z"
   },
   {
    "duration": 4,
    "start_time": "2023-03-11T21:05:06.834Z"
   },
   {
    "duration": 8,
    "start_time": "2023-03-11T21:05:06.840Z"
   },
   {
    "duration": 60,
    "start_time": "2023-03-11T21:05:06.850Z"
   },
   {
    "duration": 8,
    "start_time": "2023-03-11T21:05:06.912Z"
   },
   {
    "duration": 8,
    "start_time": "2023-03-11T21:05:06.922Z"
   },
   {
    "duration": 6133,
    "start_time": "2023-03-11T21:05:06.932Z"
   },
   {
    "duration": 113,
    "start_time": "2023-03-11T21:05:13.068Z"
   },
   {
    "duration": 55560,
    "start_time": "2023-03-11T21:05:13.183Z"
   },
   {
    "duration": 48,
    "start_time": "2023-03-11T21:06:08.745Z"
   },
   {
    "duration": 753240,
    "start_time": "2023-03-11T21:06:08.796Z"
   },
   {
    "duration": 4574,
    "start_time": "2023-03-11T21:18:42.038Z"
   },
   {
    "duration": 7445,
    "start_time": "2023-03-11T21:18:46.613Z"
   },
   {
    "duration": 10,
    "start_time": "2023-03-11T21:18:54.060Z"
   },
   {
    "duration": 20,
    "start_time": "2023-03-11T21:18:54.073Z"
   },
   {
    "duration": 30,
    "start_time": "2023-03-11T21:18:54.263Z"
   },
   {
    "duration": 4261,
    "start_time": "2023-03-11T21:18:54.295Z"
   },
   {
    "duration": 41,
    "start_time": "2023-03-11T21:18:58.557Z"
   },
   {
    "duration": 0,
    "start_time": "2023-03-11T21:18:58.600Z"
   },
   {
    "duration": 7443,
    "start_time": "2023-03-11T21:49:33.485Z"
   },
   {
    "duration": 8028,
    "start_time": "2023-03-11T21:50:21.208Z"
   },
   {
    "duration": 10,
    "start_time": "2023-03-11T21:51:07.610Z"
   },
   {
    "duration": 7500,
    "start_time": "2023-03-11T21:54:31.636Z"
   },
   {
    "duration": 68,
    "start_time": "2023-03-11T21:57:32.353Z"
   },
   {
    "duration": 71,
    "start_time": "2023-03-11T21:57:43.885Z"
   },
   {
    "duration": 74,
    "start_time": "2023-03-11T21:57:51.121Z"
   },
   {
    "duration": 7608,
    "start_time": "2023-03-11T22:01:36.779Z"
   },
   {
    "duration": 1661,
    "start_time": "2023-03-11T22:04:05.443Z"
   },
   {
    "duration": 54,
    "start_time": "2023-03-11T22:04:07.106Z"
   },
   {
    "duration": 11,
    "start_time": "2023-03-11T22:04:07.162Z"
   },
   {
    "duration": 12,
    "start_time": "2023-03-11T22:04:07.175Z"
   },
   {
    "duration": 7,
    "start_time": "2023-03-11T22:04:07.189Z"
   },
   {
    "duration": 20,
    "start_time": "2023-03-11T22:04:07.198Z"
   },
   {
    "duration": 16,
    "start_time": "2023-03-11T22:04:07.220Z"
   },
   {
    "duration": 26,
    "start_time": "2023-03-11T22:04:07.238Z"
   },
   {
    "duration": 24,
    "start_time": "2023-03-11T22:04:07.266Z"
   },
   {
    "duration": 325,
    "start_time": "2023-03-11T22:04:07.291Z"
   },
   {
    "duration": 462,
    "start_time": "2023-03-11T22:04:07.618Z"
   },
   {
    "duration": 23,
    "start_time": "2023-03-11T22:04:08.082Z"
   },
   {
    "duration": 31,
    "start_time": "2023-03-11T22:04:08.107Z"
   },
   {
    "duration": 24,
    "start_time": "2023-03-11T22:04:08.141Z"
   },
   {
    "duration": 12,
    "start_time": "2023-03-11T22:04:08.167Z"
   },
   {
    "duration": 11,
    "start_time": "2023-03-11T22:04:08.181Z"
   },
   {
    "duration": 16,
    "start_time": "2023-03-11T22:04:08.194Z"
   },
   {
    "duration": 588,
    "start_time": "2023-03-11T22:04:08.212Z"
   },
   {
    "duration": 3,
    "start_time": "2023-03-11T22:04:08.802Z"
   },
   {
    "duration": 13,
    "start_time": "2023-03-11T22:04:08.806Z"
   },
   {
    "duration": 183,
    "start_time": "2023-03-11T22:04:08.820Z"
   },
   {
    "duration": 4,
    "start_time": "2023-03-11T22:04:09.005Z"
   },
   {
    "duration": 16,
    "start_time": "2023-03-11T22:04:09.011Z"
   },
   {
    "duration": 24,
    "start_time": "2023-03-11T22:04:09.029Z"
   },
   {
    "duration": 8,
    "start_time": "2023-03-11T22:04:09.063Z"
   },
   {
    "duration": 13,
    "start_time": "2023-03-11T22:04:09.072Z"
   },
   {
    "duration": 8,
    "start_time": "2023-03-11T22:04:09.086Z"
   },
   {
    "duration": 13,
    "start_time": "2023-03-11T22:04:09.096Z"
   },
   {
    "duration": 55,
    "start_time": "2023-03-11T22:04:09.111Z"
   },
   {
    "duration": 6,
    "start_time": "2023-03-11T22:04:09.167Z"
   },
   {
    "duration": 7,
    "start_time": "2023-03-11T22:04:09.175Z"
   },
   {
    "duration": 5789,
    "start_time": "2023-03-11T22:04:09.183Z"
   },
   {
    "duration": 289,
    "start_time": "2023-03-11T22:04:14.979Z"
   },
   {
    "duration": 53602,
    "start_time": "2023-03-11T22:04:15.270Z"
   },
   {
    "duration": 40,
    "start_time": "2023-03-11T22:05:08.873Z"
   },
   {
    "duration": 733425,
    "start_time": "2023-03-11T22:05:08.915Z"
   },
   {
    "duration": 4640,
    "start_time": "2023-03-11T22:17:22.342Z"
   },
   {
    "duration": 7054,
    "start_time": "2023-03-11T22:17:26.984Z"
   },
   {
    "duration": 10,
    "start_time": "2023-03-11T22:17:34.040Z"
   },
   {
    "duration": 215,
    "start_time": "2023-03-11T22:17:34.051Z"
   },
   {
    "duration": 26,
    "start_time": "2023-03-11T22:17:34.269Z"
   },
   {
    "duration": 4122,
    "start_time": "2023-03-11T22:17:34.297Z"
   },
   {
    "duration": 7621,
    "start_time": "2023-03-11T22:17:38.420Z"
   },
   {
    "duration": 11,
    "start_time": "2023-03-11T22:17:46.042Z"
   },
   {
    "duration": 51,
    "start_time": "2023-03-12T08:25:38.860Z"
   },
   {
    "duration": 1988,
    "start_time": "2023-03-12T08:28:01.603Z"
   },
   {
    "duration": 169,
    "start_time": "2023-03-12T08:28:03.594Z"
   },
   {
    "duration": 12,
    "start_time": "2023-03-12T08:28:03.765Z"
   },
   {
    "duration": 17,
    "start_time": "2023-03-12T08:28:03.779Z"
   },
   {
    "duration": 16,
    "start_time": "2023-03-12T08:28:03.799Z"
   },
   {
    "duration": 18,
    "start_time": "2023-03-12T08:28:03.817Z"
   },
   {
    "duration": 7,
    "start_time": "2023-03-12T08:28:03.837Z"
   },
   {
    "duration": 14,
    "start_time": "2023-03-12T08:28:03.845Z"
   },
   {
    "duration": 15,
    "start_time": "2023-03-12T08:28:03.861Z"
   },
   {
    "duration": 436,
    "start_time": "2023-03-12T08:28:03.878Z"
   },
   {
    "duration": 553,
    "start_time": "2023-03-12T08:28:04.316Z"
   },
   {
    "duration": 26,
    "start_time": "2023-03-12T08:28:04.871Z"
   },
   {
    "duration": 36,
    "start_time": "2023-03-12T08:28:04.899Z"
   },
   {
    "duration": 3,
    "start_time": "2023-03-12T08:28:04.940Z"
   },
   {
    "duration": 6,
    "start_time": "2023-03-12T08:28:04.944Z"
   },
   {
    "duration": 9,
    "start_time": "2023-03-12T08:28:04.952Z"
   },
   {
    "duration": 14,
    "start_time": "2023-03-12T08:28:04.963Z"
   },
   {
    "duration": 901,
    "start_time": "2023-03-12T08:28:04.979Z"
   },
   {
    "duration": 4,
    "start_time": "2023-03-12T08:28:05.882Z"
   },
   {
    "duration": 13,
    "start_time": "2023-03-12T08:28:05.888Z"
   },
   {
    "duration": 222,
    "start_time": "2023-03-12T08:28:05.903Z"
   },
   {
    "duration": 5,
    "start_time": "2023-03-12T08:28:06.127Z"
   },
   {
    "duration": 5,
    "start_time": "2023-03-12T08:28:06.134Z"
   },
   {
    "duration": 31,
    "start_time": "2023-03-12T08:28:06.141Z"
   },
   {
    "duration": 6,
    "start_time": "2023-03-12T08:28:06.174Z"
   },
   {
    "duration": 39,
    "start_time": "2023-03-12T08:28:06.182Z"
   },
   {
    "duration": 4,
    "start_time": "2023-03-12T08:28:06.223Z"
   },
   {
    "duration": 12,
    "start_time": "2023-03-12T08:28:06.231Z"
   },
   {
    "duration": 42,
    "start_time": "2023-03-12T08:28:06.246Z"
   },
   {
    "duration": 8,
    "start_time": "2023-03-12T08:28:06.291Z"
   },
   {
    "duration": 3,
    "start_time": "2023-03-12T08:28:06.322Z"
   },
   {
    "duration": 7805,
    "start_time": "2023-03-12T08:28:06.327Z"
   },
   {
    "duration": 200,
    "start_time": "2023-03-12T08:28:14.222Z"
   },
   {
    "duration": 52589,
    "start_time": "2023-03-12T08:28:14.427Z"
   },
   {
    "duration": 37,
    "start_time": "2023-03-12T08:29:07.022Z"
   },
   {
    "duration": 737372,
    "start_time": "2023-03-12T08:29:07.061Z"
   },
   {
    "duration": 4729,
    "start_time": "2023-03-12T08:41:24.435Z"
   },
   {
    "duration": 7841,
    "start_time": "2023-03-12T08:41:29.165Z"
   },
   {
    "duration": 11,
    "start_time": "2023-03-12T08:41:37.007Z"
   },
   {
    "duration": 207,
    "start_time": "2023-03-12T08:41:37.020Z"
   },
   {
    "duration": 191,
    "start_time": "2023-03-12T08:41:37.232Z"
   },
   {
    "duration": 4095,
    "start_time": "2023-03-12T08:41:37.425Z"
   },
   {
    "duration": 7809,
    "start_time": "2023-03-12T08:41:41.521Z"
   },
   {
    "duration": 11,
    "start_time": "2023-03-12T08:41:49.331Z"
   },
   {
    "duration": 28,
    "start_time": "2023-03-12T09:19:22.417Z"
   },
   {
    "duration": 5,
    "start_time": "2023-03-12T09:19:35.316Z"
   },
   {
    "duration": 71,
    "start_time": "2023-03-12T09:19:35.324Z"
   },
   {
    "duration": 16,
    "start_time": "2023-03-12T09:19:35.398Z"
   },
   {
    "duration": 109,
    "start_time": "2023-03-12T09:19:35.416Z"
   },
   {
    "duration": 4,
    "start_time": "2023-03-12T09:19:35.528Z"
   },
   {
    "duration": 9,
    "start_time": "2023-03-12T09:19:35.533Z"
   },
   {
    "duration": 5,
    "start_time": "2023-03-12T09:19:35.544Z"
   },
   {
    "duration": 14,
    "start_time": "2023-03-12T09:19:35.550Z"
   },
   {
    "duration": 14,
    "start_time": "2023-03-12T09:19:35.565Z"
   },
   {
    "duration": 365,
    "start_time": "2023-03-12T09:19:35.581Z"
   },
   {
    "duration": 362,
    "start_time": "2023-03-12T09:19:35.948Z"
   },
   {
    "duration": 27,
    "start_time": "2023-03-12T09:19:36.313Z"
   },
   {
    "duration": 32,
    "start_time": "2023-03-12T09:19:36.342Z"
   },
   {
    "duration": 4,
    "start_time": "2023-03-12T09:19:36.377Z"
   },
   {
    "duration": 38,
    "start_time": "2023-03-12T09:19:36.383Z"
   },
   {
    "duration": 9,
    "start_time": "2023-03-12T09:19:36.424Z"
   },
   {
    "duration": 14,
    "start_time": "2023-03-12T09:19:36.435Z"
   },
   {
    "duration": 655,
    "start_time": "2023-03-12T09:19:36.451Z"
   },
   {
    "duration": 13,
    "start_time": "2023-03-12T09:19:37.109Z"
   },
   {
    "duration": 10,
    "start_time": "2023-03-12T09:19:37.124Z"
   },
   {
    "duration": 198,
    "start_time": "2023-03-12T09:19:37.137Z"
   },
   {
    "duration": 5,
    "start_time": "2023-03-12T09:19:37.338Z"
   },
   {
    "duration": 16,
    "start_time": "2023-03-12T09:19:37.345Z"
   },
   {
    "duration": 16,
    "start_time": "2023-03-12T09:35:41.219Z"
   },
   {
    "duration": 103,
    "start_time": "2023-03-12T11:39:29.732Z"
   },
   {
    "duration": 1793,
    "start_time": "2023-03-12T11:40:00.754Z"
   },
   {
    "duration": 173,
    "start_time": "2023-03-12T11:40:02.550Z"
   },
   {
    "duration": 11,
    "start_time": "2023-03-12T11:40:02.725Z"
   },
   {
    "duration": 59,
    "start_time": "2023-03-12T11:40:02.738Z"
   },
   {
    "duration": 11,
    "start_time": "2023-03-12T11:40:02.799Z"
   },
   {
    "duration": 36,
    "start_time": "2023-03-12T11:40:02.812Z"
   },
   {
    "duration": 46,
    "start_time": "2023-03-12T11:40:02.849Z"
   },
   {
    "duration": 23,
    "start_time": "2023-03-12T11:40:02.897Z"
   },
   {
    "duration": 32,
    "start_time": "2023-03-12T11:40:02.922Z"
   },
   {
    "duration": 297,
    "start_time": "2023-03-12T11:40:02.956Z"
   },
   {
    "duration": 474,
    "start_time": "2023-03-12T11:40:03.255Z"
   },
   {
    "duration": 29,
    "start_time": "2023-03-12T11:40:03.731Z"
   },
   {
    "duration": 34,
    "start_time": "2023-03-12T11:40:03.762Z"
   },
   {
    "duration": 7,
    "start_time": "2023-03-12T11:40:03.799Z"
   },
   {
    "duration": 8,
    "start_time": "2023-03-12T11:40:03.808Z"
   },
   {
    "duration": 9,
    "start_time": "2023-03-12T11:40:03.818Z"
   },
   {
    "duration": 14,
    "start_time": "2023-03-12T11:40:03.829Z"
   },
   {
    "duration": 674,
    "start_time": "2023-03-12T11:40:03.844Z"
   },
   {
    "duration": 4,
    "start_time": "2023-03-12T11:40:04.519Z"
   },
   {
    "duration": 84,
    "start_time": "2023-03-12T11:40:04.524Z"
   },
   {
    "duration": 215,
    "start_time": "2023-03-12T11:40:04.610Z"
   },
   {
    "duration": 5,
    "start_time": "2023-03-12T11:40:04.827Z"
   },
   {
    "duration": 11,
    "start_time": "2023-03-12T11:40:04.834Z"
   },
   {
    "duration": 33,
    "start_time": "2023-03-12T11:40:04.848Z"
   },
   {
    "duration": 9,
    "start_time": "2023-03-12T11:40:04.883Z"
   },
   {
    "duration": 11,
    "start_time": "2023-03-12T11:40:04.893Z"
   },
   {
    "duration": 3,
    "start_time": "2023-03-12T11:40:04.905Z"
   },
   {
    "duration": 6,
    "start_time": "2023-03-12T11:40:04.911Z"
   },
   {
    "duration": 33,
    "start_time": "2023-03-12T11:40:04.919Z"
   },
   {
    "duration": 27,
    "start_time": "2023-03-12T11:40:04.954Z"
   },
   {
    "duration": 3,
    "start_time": "2023-03-12T11:40:04.984Z"
   },
   {
    "duration": 7105,
    "start_time": "2023-03-12T11:40:04.988Z"
   },
   {
    "duration": 179,
    "start_time": "2023-03-12T11:40:12.096Z"
   },
   {
    "duration": 53705,
    "start_time": "2023-03-12T11:40:12.281Z"
   },
   {
    "duration": 40,
    "start_time": "2023-03-12T11:41:05.988Z"
   },
   {
    "duration": 720482,
    "start_time": "2023-03-12T11:41:06.030Z"
   },
   {
    "duration": 4515,
    "start_time": "2023-03-12T11:53:06.514Z"
   },
   {
    "duration": 6630,
    "start_time": "2023-03-12T11:53:11.031Z"
   },
   {
    "duration": 9,
    "start_time": "2023-03-12T11:53:17.663Z"
   },
   {
    "duration": 102,
    "start_time": "2023-03-12T11:53:17.674Z"
   },
   {
    "duration": 201,
    "start_time": "2023-03-12T11:53:17.778Z"
   },
   {
    "duration": 4116,
    "start_time": "2023-03-12T11:53:17.981Z"
   },
   {
    "duration": 6910,
    "start_time": "2023-03-12T11:53:22.099Z"
   },
   {
    "duration": 10,
    "start_time": "2023-03-12T11:53:29.011Z"
   },
   {
    "duration": 3308,
    "start_time": "2023-03-12T11:58:18.797Z"
   },
   {
    "duration": 3109,
    "start_time": "2023-03-12T11:58:57.333Z"
   },
   {
    "duration": 40,
    "start_time": "2023-03-12T12:12:01.645Z"
   }
  ],
  "kernelspec": {
   "display_name": "Python 3 (ipykernel)",
   "language": "python",
   "name": "python3"
  },
  "language_info": {
   "codemirror_mode": {
    "name": "ipython",
    "version": 3
   },
   "file_extension": ".py",
   "mimetype": "text/x-python",
   "name": "python",
   "nbconvert_exporter": "python",
   "pygments_lexer": "ipython3",
   "version": "3.9.12"
  },
  "toc": {
   "base_numbering": 1,
   "nav_menu": {},
   "number_sections": true,
   "sideBar": true,
   "skip_h1_title": true,
   "title_cell": "Содержание",
   "title_sidebar": "Contents",
   "toc_cell": true,
   "toc_position": {
    "height": "calc(100% - 180px)",
    "left": "10px",
    "top": "150px",
    "width": "165px"
   },
   "toc_section_display": true,
   "toc_window_display": true
  }
 },
 "nbformat": 4,
 "nbformat_minor": 2
}
